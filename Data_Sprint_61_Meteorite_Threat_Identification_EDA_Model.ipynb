{
  "nbformat": 4,
  "nbformat_minor": 0,
  "metadata": {
    "colab": {
      "name": "Data Sprint 61 - Meteorite Threat Identification_EDA-Model.ipynb",
      "provenance": [],
      "collapsed_sections": []
    },
    "kernelspec": {
      "name": "python3",
      "display_name": "Python 3"
    },
    "language_info": {
      "name": "python"
    },
    "accelerator": "GPU"
  },
  "cells": [
    {
      "cell_type": "markdown",
      "metadata": {
        "id": "tVnuDb1CscTz"
      },
      "source": [
        "## Introduction\n",
        "####  Build a Machine Learning model that predicts whether or not an asteroid will be dangerous (or not!)."
      ]
    },
    {
      "cell_type": "markdown",
      "metadata": {
        "id": "qhC4Y0evthv7"
      },
      "source": [
        "### Import the necessary packages."
      ]
    },
    {
      "cell_type": "code",
      "metadata": {
        "id": "5NPr3xwYn8US"
      },
      "source": [
        "import numpy as np # linear algebra\n",
        "import pandas as pd # data processing, CSV file I/O (e.g. pd.read_csv)\n",
        "import seaborn as sns # visualization\n",
        "from matplotlib import pyplot as plt # visualization\n",
        "%matplotlib inline\n",
        "import warnings\n",
        "warnings.filterwarnings(\"ignore\")\n",
        "import re"
      ],
      "execution_count": 1,
      "outputs": []
    },
    {
      "cell_type": "code",
      "metadata": {
        "colab": {
          "base_uri": "https://localhost:8080/"
        },
        "id": "yrgBbzEBoQdi",
        "outputId": "3a78ba57-53bf-4f16-fc8a-12903059bb1c"
      },
      "source": [
        "from google.colab import drive\n",
        "drive.mount('/content/gdrive')"
      ],
      "execution_count": 2,
      "outputs": [
        {
          "output_type": "stream",
          "name": "stdout",
          "text": [
            "Mounted at /content/gdrive\n"
          ]
        }
      ]
    },
    {
      "cell_type": "markdown",
      "metadata": {
        "id": "4v-Zy4gIn8UW"
      },
      "source": [
        "### Import train and test dataset"
      ]
    },
    {
      "cell_type": "code",
      "metadata": {
        "id": "2-h0bcvHn8UZ"
      },
      "source": [
        "train=pd.read_csv(\"/content/gdrive/MyDrive/Data Sprint 61 - Meteorite Threat Identification/train_dataset.csv\")\n",
        "test=pd.read_csv(\"/content/gdrive/MyDrive/Data Sprint 61 - Meteorite Threat Identification/test_dataset.csv\")"
      ],
      "execution_count": 3,
      "outputs": []
    },
    {
      "cell_type": "code",
      "source": [
        "train=train.rename(columns={col:re.sub(\"\\s|\\.\",\"_\",col.lower().strip()) for col in train.columns.values})\n",
        "test=test.rename(columns={col:re.sub(\"\\s|\\.\",\"_\",col.lower().strip()) for col in test.columns.values})"
      ],
      "metadata": {
        "id": "P9eB8YNrGC-t"
      },
      "execution_count": 4,
      "outputs": []
    },
    {
      "cell_type": "code",
      "source": [
        "test['Hazardous']=np.nan"
      ],
      "metadata": {
        "id": "CCkFGLLhEkA5"
      },
      "execution_count": null,
      "outputs": []
    },
    {
      "cell_type": "markdown",
      "metadata": {
        "id": "KpDOQBIHn8Uc"
      },
      "source": [
        "### Structure of the train and test dataset."
      ]
    },
    {
      "cell_type": "code",
      "metadata": {
        "colab": {
          "base_uri": "https://localhost:8080/"
        },
        "id": "yiEt7ie-n8Ue",
        "outputId": "9b5e3276-ead9-4984-dd3e-cd9145d7f1c4"
      },
      "source": [
        "train.info()"
      ],
      "execution_count": 11,
      "outputs": [
        {
          "output_type": "stream",
          "name": "stdout",
          "text": [
            "<class 'pandas.core.frame.DataFrame'>\n",
            "RangeIndex: 3280 entries, 0 to 3279\n",
            "Data columns (total 33 columns):\n",
            " #   Column                        Non-Null Count  Dtype  \n",
            "---  ------                        --------------  -----  \n",
            " 0   absolute_magnitude            3280 non-null   float64\n",
            " 1   est_dia_in_km(min)            3280 non-null   float64\n",
            " 2   est_dia_in_km(max)            3280 non-null   float64\n",
            " 3   est_dia_in_m(min)             3280 non-null   float64\n",
            " 4   est_dia_in_m(max)             3280 non-null   float64\n",
            " 5   est_dia_in_miles(min)         3280 non-null   float64\n",
            " 6   est_dia_in_miles(max)         3280 non-null   float64\n",
            " 7   est_dia_in_feet(min)          3280 non-null   float64\n",
            " 8   est_dia_in_feet(max)          3280 non-null   float64\n",
            " 9   relative_velocity_km_per_sec  3280 non-null   float64\n",
            " 10  relative_velocity_km_per_hr   3280 non-null   float64\n",
            " 11  miles_per_hour                3280 non-null   float64\n",
            " 12  miss_dist_(astronomical)      3280 non-null   float64\n",
            " 13  miss_dist_(lunar)             3280 non-null   float64\n",
            " 14  miss_dist_(kilometers)        3280 non-null   float64\n",
            " 15  miss_dist_(miles)             3280 non-null   float64\n",
            " 16  orbit_id                      3280 non-null   int64  \n",
            " 17  orbit_uncertainity            3280 non-null   int64  \n",
            " 18  minimum_orbit_intersection    3280 non-null   float64\n",
            " 19  jupiter_tisserand_invariant   3280 non-null   float64\n",
            " 20  epoch_osculation              3280 non-null   float64\n",
            " 21  eccentricity                  3280 non-null   float64\n",
            " 22  semi_major_axis               3280 non-null   float64\n",
            " 23  inclination                   3280 non-null   float64\n",
            " 24  asc_node_longitude            3280 non-null   float64\n",
            " 25  orbital_period                3280 non-null   float64\n",
            " 26  perihelion_distance           3280 non-null   float64\n",
            " 27  perihelion_arg                3280 non-null   float64\n",
            " 28  aphelion_dist                 3280 non-null   float64\n",
            " 29  perihelion_time               3280 non-null   float64\n",
            " 30  mean_anomaly                  3280 non-null   float64\n",
            " 31  mean_motion                   3280 non-null   float64\n",
            " 32  hazardous                     3280 non-null   int64  \n",
            "dtypes: float64(30), int64(3)\n",
            "memory usage: 845.8 KB\n"
          ]
        }
      ]
    },
    {
      "cell_type": "markdown",
      "metadata": {
        "id": "82yE67YUn8Uh"
      },
      "source": [
        "#### The above information shows that there are 3280 data entries and 33 columns.\n",
        "\n",
        "#### The target column is **hazardous**."
      ]
    },
    {
      "cell_type": "code",
      "metadata": {
        "colab": {
          "base_uri": "https://localhost:8080/"
        },
        "id": "rLuAlaRdn8Um",
        "outputId": "88388223-e4f9-4ae9-b2ac-85aab0025d11"
      },
      "source": [
        "test.info()"
      ],
      "execution_count": 12,
      "outputs": [
        {
          "output_type": "stream",
          "name": "stdout",
          "text": [
            "<class 'pandas.core.frame.DataFrame'>\n",
            "RangeIndex: 1407 entries, 0 to 1406\n",
            "Data columns (total 32 columns):\n",
            " #   Column                        Non-Null Count  Dtype  \n",
            "---  ------                        --------------  -----  \n",
            " 0   absolute_magnitude            1407 non-null   float64\n",
            " 1   est_dia_in_km(min)            1407 non-null   float64\n",
            " 2   est_dia_in_km(max)            1407 non-null   float64\n",
            " 3   est_dia_in_m(min)             1407 non-null   float64\n",
            " 4   est_dia_in_m(max)             1407 non-null   float64\n",
            " 5   est_dia_in_miles(min)         1407 non-null   float64\n",
            " 6   est_dia_in_miles(max)         1407 non-null   float64\n",
            " 7   est_dia_in_feet(min)          1407 non-null   float64\n",
            " 8   est_dia_in_feet(max)          1407 non-null   float64\n",
            " 9   relative_velocity_km_per_sec  1407 non-null   float64\n",
            " 10  relative_velocity_km_per_hr   1407 non-null   float64\n",
            " 11  miles_per_hour                1407 non-null   float64\n",
            " 12  miss_dist_(astronomical)      1407 non-null   float64\n",
            " 13  miss_dist_(lunar)             1407 non-null   float64\n",
            " 14  miss_dist_(kilometers)        1407 non-null   float64\n",
            " 15  miss_dist_(miles)             1407 non-null   float64\n",
            " 16  orbit_id                      1407 non-null   int64  \n",
            " 17  orbit_uncertainity            1407 non-null   int64  \n",
            " 18  minimum_orbit_intersection    1407 non-null   float64\n",
            " 19  jupiter_tisserand_invariant   1407 non-null   float64\n",
            " 20  epoch_osculation              1407 non-null   float64\n",
            " 21  eccentricity                  1407 non-null   float64\n",
            " 22  semi_major_axis               1407 non-null   float64\n",
            " 23  inclination                   1407 non-null   float64\n",
            " 24  asc_node_longitude            1407 non-null   float64\n",
            " 25  orbital_period                1407 non-null   float64\n",
            " 26  perihelion_distance           1407 non-null   float64\n",
            " 27  perihelion_arg                1407 non-null   float64\n",
            " 28  aphelion_dist                 1407 non-null   float64\n",
            " 29  perihelion_time               1407 non-null   float64\n",
            " 30  mean_anomaly                  1407 non-null   float64\n",
            " 31  mean_motion                   1407 non-null   float64\n",
            "dtypes: float64(30), int64(2)\n",
            "memory usage: 351.9 KB\n"
          ]
        }
      ]
    },
    {
      "cell_type": "markdown",
      "metadata": {
        "id": "AvLZ0RP1n8Up"
      },
      "source": [
        "#### The above information shows that there are 1407 data entries and 32 columns."
      ]
    },
    {
      "cell_type": "markdown",
      "metadata": {
        "id": "wwosQMPon8Us"
      },
      "source": [
        "#### Let's see is there any missing values in train and test dataset by column wise."
      ]
    },
    {
      "cell_type": "code",
      "metadata": {
        "colab": {
          "base_uri": "https://localhost:8080/"
        },
        "id": "GTvLJlIEn8Uv",
        "outputId": "d403f9e7-d371-4321-d832-bc428000ac31"
      },
      "source": [
        "train.isnull().sum()"
      ],
      "execution_count": 17,
      "outputs": [
        {
          "output_type": "execute_result",
          "data": {
            "text/plain": [
              "absolute_magnitude              0\n",
              "est_dia_in_km(min)              0\n",
              "est_dia_in_km(max)              0\n",
              "est_dia_in_m(min)               0\n",
              "est_dia_in_m(max)               0\n",
              "est_dia_in_miles(min)           0\n",
              "est_dia_in_miles(max)           0\n",
              "est_dia_in_feet(min)            0\n",
              "est_dia_in_feet(max)            0\n",
              "relative_velocity_km_per_sec    0\n",
              "relative_velocity_km_per_hr     0\n",
              "miles_per_hour                  0\n",
              "miss_dist_(astronomical)        0\n",
              "miss_dist_(lunar)               0\n",
              "miss_dist_(kilometers)          0\n",
              "miss_dist_(miles)               0\n",
              "orbit_id                        0\n",
              "orbit_uncertainity              0\n",
              "minimum_orbit_intersection      0\n",
              "jupiter_tisserand_invariant     0\n",
              "epoch_osculation                0\n",
              "eccentricity                    0\n",
              "semi_major_axis                 0\n",
              "inclination                     0\n",
              "asc_node_longitude              0\n",
              "orbital_period                  0\n",
              "perihelion_distance             0\n",
              "perihelion_arg                  0\n",
              "aphelion_dist                   0\n",
              "perihelion_time                 0\n",
              "mean_anomaly                    0\n",
              "mean_motion                     0\n",
              "hazardous                       0\n",
              "dtype: int64"
            ]
          },
          "metadata": {},
          "execution_count": 17
        }
      ]
    },
    {
      "cell_type": "markdown",
      "metadata": {
        "id": "OpYFpMVUn8Uw"
      },
      "source": [
        "#### The above information shows that there are no missing values.."
      ]
    },
    {
      "cell_type": "code",
      "metadata": {
        "colab": {
          "base_uri": "https://localhost:8080/"
        },
        "id": "_PKjtK37n8Uz",
        "outputId": "b605fb06-6199-4368-978d-7309ac882ba3"
      },
      "source": [
        "test.isnull().sum()"
      ],
      "execution_count": 18,
      "outputs": [
        {
          "output_type": "execute_result",
          "data": {
            "text/plain": [
              "absolute_magnitude              0\n",
              "est_dia_in_km(min)              0\n",
              "est_dia_in_km(max)              0\n",
              "est_dia_in_m(min)               0\n",
              "est_dia_in_m(max)               0\n",
              "est_dia_in_miles(min)           0\n",
              "est_dia_in_miles(max)           0\n",
              "est_dia_in_feet(min)            0\n",
              "est_dia_in_feet(max)            0\n",
              "relative_velocity_km_per_sec    0\n",
              "relative_velocity_km_per_hr     0\n",
              "miles_per_hour                  0\n",
              "miss_dist_(astronomical)        0\n",
              "miss_dist_(lunar)               0\n",
              "miss_dist_(kilometers)          0\n",
              "miss_dist_(miles)               0\n",
              "orbit_id                        0\n",
              "orbit_uncertainity              0\n",
              "minimum_orbit_intersection      0\n",
              "jupiter_tisserand_invariant     0\n",
              "epoch_osculation                0\n",
              "eccentricity                    0\n",
              "semi_major_axis                 0\n",
              "inclination                     0\n",
              "asc_node_longitude              0\n",
              "orbital_period                  0\n",
              "perihelion_distance             0\n",
              "perihelion_arg                  0\n",
              "aphelion_dist                   0\n",
              "perihelion_time                 0\n",
              "mean_anomaly                    0\n",
              "mean_motion                     0\n",
              "dtype: int64"
            ]
          },
          "metadata": {},
          "execution_count": 18
        }
      ]
    },
    {
      "cell_type": "markdown",
      "metadata": {
        "id": "xuzvKIW0n8U1"
      },
      "source": [
        "#### The above information shows that there are no missing values.."
      ]
    },
    {
      "cell_type": "markdown",
      "metadata": {
        "id": "D6zhPGSDn8U3"
      },
      "source": [
        "#### Let's see the glimpse of train dataset"
      ]
    },
    {
      "cell_type": "code",
      "metadata": {
        "colab": {
          "base_uri": "https://localhost:8080/",
          "height": 270
        },
        "id": "refnb7qFn8U6",
        "outputId": "c57410f1-8727-45ea-d6c2-29be90da4931"
      },
      "source": [
        "train.head()"
      ],
      "execution_count": 19,
      "outputs": [
        {
          "output_type": "execute_result",
          "data": {
            "text/html": [
              "\n",
              "  <div id=\"df-7e7d32ce-e14d-4275-92e2-65e1d04af817\">\n",
              "    <div class=\"colab-df-container\">\n",
              "      <div>\n",
              "<style scoped>\n",
              "    .dataframe tbody tr th:only-of-type {\n",
              "        vertical-align: middle;\n",
              "    }\n",
              "\n",
              "    .dataframe tbody tr th {\n",
              "        vertical-align: top;\n",
              "    }\n",
              "\n",
              "    .dataframe thead th {\n",
              "        text-align: right;\n",
              "    }\n",
              "</style>\n",
              "<table border=\"1\" class=\"dataframe\">\n",
              "  <thead>\n",
              "    <tr style=\"text-align: right;\">\n",
              "      <th></th>\n",
              "      <th>absolute_magnitude</th>\n",
              "      <th>est_dia_in_km(min)</th>\n",
              "      <th>est_dia_in_km(max)</th>\n",
              "      <th>est_dia_in_m(min)</th>\n",
              "      <th>est_dia_in_m(max)</th>\n",
              "      <th>est_dia_in_miles(min)</th>\n",
              "      <th>est_dia_in_miles(max)</th>\n",
              "      <th>est_dia_in_feet(min)</th>\n",
              "      <th>est_dia_in_feet(max)</th>\n",
              "      <th>relative_velocity_km_per_sec</th>\n",
              "      <th>relative_velocity_km_per_hr</th>\n",
              "      <th>miles_per_hour</th>\n",
              "      <th>miss_dist_(astronomical)</th>\n",
              "      <th>miss_dist_(lunar)</th>\n",
              "      <th>miss_dist_(kilometers)</th>\n",
              "      <th>miss_dist_(miles)</th>\n",
              "      <th>orbit_id</th>\n",
              "      <th>orbit_uncertainity</th>\n",
              "      <th>minimum_orbit_intersection</th>\n",
              "      <th>jupiter_tisserand_invariant</th>\n",
              "      <th>epoch_osculation</th>\n",
              "      <th>eccentricity</th>\n",
              "      <th>semi_major_axis</th>\n",
              "      <th>inclination</th>\n",
              "      <th>asc_node_longitude</th>\n",
              "      <th>orbital_period</th>\n",
              "      <th>perihelion_distance</th>\n",
              "      <th>perihelion_arg</th>\n",
              "      <th>aphelion_dist</th>\n",
              "      <th>perihelion_time</th>\n",
              "      <th>mean_anomaly</th>\n",
              "      <th>mean_motion</th>\n",
              "      <th>hazardous</th>\n",
              "    </tr>\n",
              "  </thead>\n",
              "  <tbody>\n",
              "    <tr>\n",
              "      <th>0</th>\n",
              "      <td>26.6</td>\n",
              "      <td>0.012722</td>\n",
              "      <td>0.028447</td>\n",
              "      <td>12.721988</td>\n",
              "      <td>28.447230</td>\n",
              "      <td>0.007905</td>\n",
              "      <td>0.017676</td>\n",
              "      <td>41.738807</td>\n",
              "      <td>93.330809</td>\n",
              "      <td>7.648194</td>\n",
              "      <td>27533.497489</td>\n",
              "      <td>17108.244592</td>\n",
              "      <td>0.001808</td>\n",
              "      <td>0.703481</td>\n",
              "      <td>2.705378e+05</td>\n",
              "      <td>1.681044e+05</td>\n",
              "      <td>11</td>\n",
              "      <td>6</td>\n",
              "      <td>0.001983</td>\n",
              "      <td>5.479</td>\n",
              "      <td>2458000.5</td>\n",
              "      <td>0.217360</td>\n",
              "      <td>1.137455</td>\n",
              "      <td>7.583001</td>\n",
              "      <td>347.475804</td>\n",
              "      <td>443.098049</td>\n",
              "      <td>0.890218</td>\n",
              "      <td>245.671594</td>\n",
              "      <td>1.384692</td>\n",
              "      <td>2.457846e+06</td>\n",
              "      <td>125.647826</td>\n",
              "      <td>0.812461</td>\n",
              "      <td>0</td>\n",
              "    </tr>\n",
              "    <tr>\n",
              "      <th>1</th>\n",
              "      <td>22.7</td>\n",
              "      <td>0.076658</td>\n",
              "      <td>0.171412</td>\n",
              "      <td>76.657557</td>\n",
              "      <td>171.411509</td>\n",
              "      <td>0.047633</td>\n",
              "      <td>0.106510</td>\n",
              "      <td>251.501180</td>\n",
              "      <td>562.373736</td>\n",
              "      <td>19.142824</td>\n",
              "      <td>68914.168040</td>\n",
              "      <td>42820.584025</td>\n",
              "      <td>0.367221</td>\n",
              "      <td>142.848846</td>\n",
              "      <td>5.493543e+07</td>\n",
              "      <td>3.413530e+07</td>\n",
              "      <td>14</td>\n",
              "      <td>6</td>\n",
              "      <td>0.014937</td>\n",
              "      <td>3.556</td>\n",
              "      <td>2458000.5</td>\n",
              "      <td>0.530052</td>\n",
              "      <td>2.094837</td>\n",
              "      <td>4.710039</td>\n",
              "      <td>176.203926</td>\n",
              "      <td>1107.448956</td>\n",
              "      <td>0.984464</td>\n",
              "      <td>175.628191</td>\n",
              "      <td>3.205210</td>\n",
              "      <td>2.457653e+06</td>\n",
              "      <td>113.100725</td>\n",
              "      <td>0.325071</td>\n",
              "      <td>0</td>\n",
              "    </tr>\n",
              "    <tr>\n",
              "      <th>2</th>\n",
              "      <td>24.0</td>\n",
              "      <td>0.042126</td>\n",
              "      <td>0.094198</td>\n",
              "      <td>42.126461</td>\n",
              "      <td>94.197631</td>\n",
              "      <td>0.026176</td>\n",
              "      <td>0.058532</td>\n",
              "      <td>138.210178</td>\n",
              "      <td>309.047354</td>\n",
              "      <td>7.819970</td>\n",
              "      <td>28151.891054</td>\n",
              "      <td>17492.490305</td>\n",
              "      <td>0.000228</td>\n",
              "      <td>0.088548</td>\n",
              "      <td>3.405277e+04</td>\n",
              "      <td>2.115941e+04</td>\n",
              "      <td>80</td>\n",
              "      <td>0</td>\n",
              "      <td>0.001724</td>\n",
              "      <td>6.532</td>\n",
              "      <td>2458000.5</td>\n",
              "      <td>0.089348</td>\n",
              "      <td>0.910284</td>\n",
              "      <td>11.609153</td>\n",
              "      <td>146.961250</td>\n",
              "      <td>317.222445</td>\n",
              "      <td>0.828952</td>\n",
              "      <td>195.589585</td>\n",
              "      <td>0.991616</td>\n",
              "      <td>2.458100e+06</td>\n",
              "      <td>246.773198</td>\n",
              "      <td>1.134850</td>\n",
              "      <td>0</td>\n",
              "    </tr>\n",
              "    <tr>\n",
              "      <th>3</th>\n",
              "      <td>17.7</td>\n",
              "      <td>0.766576</td>\n",
              "      <td>1.714115</td>\n",
              "      <td>766.575574</td>\n",
              "      <td>1714.115092</td>\n",
              "      <td>0.476328</td>\n",
              "      <td>1.065101</td>\n",
              "      <td>2515.011805</td>\n",
              "      <td>5623.737359</td>\n",
              "      <td>2.335267</td>\n",
              "      <td>8406.960142</td>\n",
              "      <td>5223.758095</td>\n",
              "      <td>0.354676</td>\n",
              "      <td>137.969025</td>\n",
              "      <td>5.305880e+07</td>\n",
              "      <td>3.296921e+07</td>\n",
              "      <td>121</td>\n",
              "      <td>0</td>\n",
              "      <td>0.306679</td>\n",
              "      <td>3.740</td>\n",
              "      <td>2458000.5</td>\n",
              "      <td>0.371428</td>\n",
              "      <td>2.004001</td>\n",
              "      <td>7.012588</td>\n",
              "      <td>354.475923</td>\n",
              "      <td>1036.204307</td>\n",
              "      <td>1.259659</td>\n",
              "      <td>105.208870</td>\n",
              "      <td>2.748343</td>\n",
              "      <td>2.457681e+06</td>\n",
              "      <td>111.130550</td>\n",
              "      <td>0.347422</td>\n",
              "      <td>0</td>\n",
              "    </tr>\n",
              "    <tr>\n",
              "      <th>4</th>\n",
              "      <td>21.3</td>\n",
              "      <td>0.146068</td>\n",
              "      <td>0.326618</td>\n",
              "      <td>146.067964</td>\n",
              "      <td>326.617897</td>\n",
              "      <td>0.090762</td>\n",
              "      <td>0.202951</td>\n",
              "      <td>479.225620</td>\n",
              "      <td>1071.581063</td>\n",
              "      <td>30.994787</td>\n",
              "      <td>111581.231488</td>\n",
              "      <td>69332.237977</td>\n",
              "      <td>0.420673</td>\n",
              "      <td>163.641815</td>\n",
              "      <td>6.293179e+07</td>\n",
              "      <td>3.910400e+07</td>\n",
              "      <td>8</td>\n",
              "      <td>7</td>\n",
              "      <td>0.381816</td>\n",
              "      <td>2.196</td>\n",
              "      <td>2458000.5</td>\n",
              "      <td>0.611155</td>\n",
              "      <td>3.284547</td>\n",
              "      <td>60.900589</td>\n",
              "      <td>219.323712</td>\n",
              "      <td>2174.260704</td>\n",
              "      <td>1.277179</td>\n",
              "      <td>218.504766</td>\n",
              "      <td>5.291914</td>\n",
              "      <td>2.458459e+06</td>\n",
              "      <td>284.064157</td>\n",
              "      <td>0.165574</td>\n",
              "      <td>0</td>\n",
              "    </tr>\n",
              "  </tbody>\n",
              "</table>\n",
              "</div>\n",
              "      <button class=\"colab-df-convert\" onclick=\"convertToInteractive('df-7e7d32ce-e14d-4275-92e2-65e1d04af817')\"\n",
              "              title=\"Convert this dataframe to an interactive table.\"\n",
              "              style=\"display:none;\">\n",
              "        \n",
              "  <svg xmlns=\"http://www.w3.org/2000/svg\" height=\"24px\"viewBox=\"0 0 24 24\"\n",
              "       width=\"24px\">\n",
              "    <path d=\"M0 0h24v24H0V0z\" fill=\"none\"/>\n",
              "    <path d=\"M18.56 5.44l.94 2.06.94-2.06 2.06-.94-2.06-.94-.94-2.06-.94 2.06-2.06.94zm-11 1L8.5 8.5l.94-2.06 2.06-.94-2.06-.94L8.5 2.5l-.94 2.06-2.06.94zm10 10l.94 2.06.94-2.06 2.06-.94-2.06-.94-.94-2.06-.94 2.06-2.06.94z\"/><path d=\"M17.41 7.96l-1.37-1.37c-.4-.4-.92-.59-1.43-.59-.52 0-1.04.2-1.43.59L10.3 9.45l-7.72 7.72c-.78.78-.78 2.05 0 2.83L4 21.41c.39.39.9.59 1.41.59.51 0 1.02-.2 1.41-.59l7.78-7.78 2.81-2.81c.8-.78.8-2.07 0-2.86zM5.41 20L4 18.59l7.72-7.72 1.47 1.35L5.41 20z\"/>\n",
              "  </svg>\n",
              "      </button>\n",
              "      \n",
              "  <style>\n",
              "    .colab-df-container {\n",
              "      display:flex;\n",
              "      flex-wrap:wrap;\n",
              "      gap: 12px;\n",
              "    }\n",
              "\n",
              "    .colab-df-convert {\n",
              "      background-color: #E8F0FE;\n",
              "      border: none;\n",
              "      border-radius: 50%;\n",
              "      cursor: pointer;\n",
              "      display: none;\n",
              "      fill: #1967D2;\n",
              "      height: 32px;\n",
              "      padding: 0 0 0 0;\n",
              "      width: 32px;\n",
              "    }\n",
              "\n",
              "    .colab-df-convert:hover {\n",
              "      background-color: #E2EBFA;\n",
              "      box-shadow: 0px 1px 2px rgba(60, 64, 67, 0.3), 0px 1px 3px 1px rgba(60, 64, 67, 0.15);\n",
              "      fill: #174EA6;\n",
              "    }\n",
              "\n",
              "    [theme=dark] .colab-df-convert {\n",
              "      background-color: #3B4455;\n",
              "      fill: #D2E3FC;\n",
              "    }\n",
              "\n",
              "    [theme=dark] .colab-df-convert:hover {\n",
              "      background-color: #434B5C;\n",
              "      box-shadow: 0px 1px 3px 1px rgba(0, 0, 0, 0.15);\n",
              "      filter: drop-shadow(0px 1px 2px rgba(0, 0, 0, 0.3));\n",
              "      fill: #FFFFFF;\n",
              "    }\n",
              "  </style>\n",
              "\n",
              "      <script>\n",
              "        const buttonEl =\n",
              "          document.querySelector('#df-7e7d32ce-e14d-4275-92e2-65e1d04af817 button.colab-df-convert');\n",
              "        buttonEl.style.display =\n",
              "          google.colab.kernel.accessAllowed ? 'block' : 'none';\n",
              "\n",
              "        async function convertToInteractive(key) {\n",
              "          const element = document.querySelector('#df-7e7d32ce-e14d-4275-92e2-65e1d04af817');\n",
              "          const dataTable =\n",
              "            await google.colab.kernel.invokeFunction('convertToInteractive',\n",
              "                                                     [key], {});\n",
              "          if (!dataTable) return;\n",
              "\n",
              "          const docLinkHtml = 'Like what you see? Visit the ' +\n",
              "            '<a target=\"_blank\" href=https://colab.research.google.com/notebooks/data_table.ipynb>data table notebook</a>'\n",
              "            + ' to learn more about interactive tables.';\n",
              "          element.innerHTML = '';\n",
              "          dataTable['output_type'] = 'display_data';\n",
              "          await google.colab.output.renderOutput(dataTable, element);\n",
              "          const docLink = document.createElement('div');\n",
              "          docLink.innerHTML = docLinkHtml;\n",
              "          element.appendChild(docLink);\n",
              "        }\n",
              "      </script>\n",
              "    </div>\n",
              "  </div>\n",
              "  "
            ],
            "text/plain": [
              "   absolute_magnitude  est_dia_in_km(min)  ...  mean_motion  hazardous\n",
              "0                26.6            0.012722  ...     0.812461          0\n",
              "1                22.7            0.076658  ...     0.325071          0\n",
              "2                24.0            0.042126  ...     1.134850          0\n",
              "3                17.7            0.766576  ...     0.347422          0\n",
              "4                21.3            0.146068  ...     0.165574          0\n",
              "\n",
              "[5 rows x 33 columns]"
            ]
          },
          "metadata": {},
          "execution_count": 19
        }
      ]
    },
    {
      "cell_type": "code",
      "source": [
        "train.columns"
      ],
      "metadata": {
        "colab": {
          "base_uri": "https://localhost:8080/"
        },
        "id": "v2mHKtaPbvXw",
        "outputId": "43e31381-eb14-432b-950c-02624ff18cc8"
      },
      "execution_count": 20,
      "outputs": [
        {
          "output_type": "execute_result",
          "data": {
            "text/plain": [
              "Index(['absolute_magnitude', 'est_dia_in_km(min)', 'est_dia_in_km(max)',\n",
              "       'est_dia_in_m(min)', 'est_dia_in_m(max)', 'est_dia_in_miles(min)',\n",
              "       'est_dia_in_miles(max)', 'est_dia_in_feet(min)', 'est_dia_in_feet(max)',\n",
              "       'relative_velocity_km_per_sec', 'relative_velocity_km_per_hr',\n",
              "       'miles_per_hour', 'miss_dist_(astronomical)', 'miss_dist_(lunar)',\n",
              "       'miss_dist_(kilometers)', 'miss_dist_(miles)', 'orbit_id',\n",
              "       'orbit_uncertainity', 'minimum_orbit_intersection',\n",
              "       'jupiter_tisserand_invariant', 'epoch_osculation', 'eccentricity',\n",
              "       'semi_major_axis', 'inclination', 'asc_node_longitude',\n",
              "       'orbital_period', 'perihelion_distance', 'perihelion_arg',\n",
              "       'aphelion_dist', 'perihelion_time', 'mean_anomaly', 'mean_motion',\n",
              "       'hazardous'],\n",
              "      dtype='object')"
            ]
          },
          "metadata": {},
          "execution_count": 20
        }
      ]
    },
    {
      "cell_type": "code",
      "source": [
        "def pre_process(df):\n",
        "\n",
        "  numcols=['absolute_magnitude', 'est_dia_in_km(min)', 'est_dia_in_km(max)',\n",
        "       'est_dia_in_m(min)', 'est_dia_in_m(max)', 'est_dia_in_miles(min)',\n",
        "       'est_dia_in_miles(max)', 'est_dia_in_feet(min)', 'est_dia_in_feet(max)',\n",
        "       'relative_velocity_km_per_sec', 'relative_velocity_km_per_hr',\n",
        "       'miles_per_hour', 'miss_dist_(astronomical)', 'miss_dist_(lunar)',\n",
        "       'miss_dist_(kilometers)', 'miss_dist_(miles)','minimum_orbit_intersection',\n",
        "       'jupiter_tisserand_invariant', 'epoch_osculation', 'eccentricity',\n",
        "       'semi_major_axis', 'inclination', 'asc_node_longitude',\n",
        "       'orbital_period', 'perihelion_distance', 'perihelion_arg',\n",
        "       'aphelion_dist', 'perihelion_time', 'mean_anomaly', 'mean_motion',]\n",
        "\n",
        "  grpcol=['orbit_id', 'orbit_uncertainity',] \n",
        "\n",
        "  \n",
        "\n",
        "  \"\"\"group by numerical summary of each numerical column\"\"\"\n",
        "\n",
        "  def feature_eng(df):\n",
        "    for valcol in numcols:\n",
        "      df1=(df.groupby(grpcol)[valcol].\n",
        "             agg({'min','median','max',np.ptp}).reset_index())\n",
        "      df1=(df1.rename(columns={c:valcol+'_'+c for c in df1.loc[:,df1.columns.str.\n",
        "                                                match(\"(min|median|max|ptp)\")]}))\n",
        "      df=pd.merge(df,df1,on=grpcol,how='left')\n",
        "    return df  \n",
        "\n",
        "\n",
        "  df=feature_eng(df)\n",
        "\n",
        "  df['orbitid_count']=df.groupby('orbit_id')['orbit_id'].transform('count')\n",
        "  df['orbit_uncert']=df.groupby('orbit_uncertainity')['orbit_uncertainity'].transform('count')\n",
        "  df['orbid_uncert_count']=df.groupby('orbit_id')['orbit_uncertainity'].transform('count')\n",
        "\n",
        "  return df"
      ],
      "metadata": {
        "id": "t9xftQcfbjA-"
      },
      "execution_count": 5,
      "outputs": []
    },
    {
      "cell_type": "markdown",
      "source": [
        "### Pre processing the train data\n"
      ],
      "metadata": {
        "id": "UK7Io0F-dshN"
      }
    },
    {
      "cell_type": "code",
      "source": [
        "train=pre_process(train)"
      ],
      "metadata": {
        "id": "EdpAzooyd1a1"
      },
      "execution_count": 6,
      "outputs": []
    },
    {
      "cell_type": "markdown",
      "source": [
        "### Pre processing the test data\n"
      ],
      "metadata": {
        "id": "bTlbs4Und_IG"
      }
    },
    {
      "cell_type": "code",
      "source": [
        "test=pre_process(test)"
      ],
      "metadata": {
        "id": "Ku8gI3vmd_IH"
      },
      "execution_count": 7,
      "outputs": []
    },
    {
      "cell_type": "markdown",
      "metadata": {
        "id": "ywPDS4t8n8U8"
      },
      "source": [
        "### Let's explore and visualize each column of train dataset.First,let's see the target column(**Class**) distribution."
      ]
    },
    {
      "cell_type": "markdown",
      "metadata": {
        "id": "WaxHDGDKn8U-"
      },
      "source": [
        "#### For better visualization class level are recorded by using the competition data dictionary."
      ]
    },
    {
      "cell_type": "code",
      "metadata": {
        "colab": {
          "base_uri": "https://localhost:8080/",
          "height": 426
        },
        "id": "25rFcZ7Un8VI",
        "outputId": "eef22816-67a2-45fa-aaaa-bfa183820c4f"
      },
      "source": [
        "plt.figure(figsize=(15,6))\n",
        "_=sns.countplot(train['hazardous'],order=train['hazardous'].value_counts().index)\n",
        "_=plt.title(\"Hazardous Distribution\",fontsize=25)\n",
        "_=plt.xlabel('Hazardous',fontsize=20)\n",
        "_=plt.xticks(fontsize=14)"
      ],
      "execution_count": 26,
      "outputs": [
        {
          "output_type": "display_data",
          "data": {
            "image/png": "[encoded data removed]",
            "text/plain": [
              "<Figure size 1080x432 with 1 Axes>"
            ]
          },
          "metadata": {
            "needs_background": "light"
          }
        }
      ]
    },
    {
      "cell_type": "code",
      "source": [
        "train['hazardous'].value_counts()"
      ],
      "metadata": {
        "colab": {
          "base_uri": "https://localhost:8080/"
        },
        "id": "vZlt3R5OeGqS",
        "outputId": "0a39c4aa-098b-405c-8818-4a8fb6576ba5"
      },
      "execution_count": null,
      "outputs": [
        {
          "output_type": "execute_result",
          "data": {
            "text/plain": [
              "0    2752\n",
              "1     528\n",
              "Name: Hazardous, dtype: int64"
            ]
          },
          "metadata": {},
          "execution_count": 12
        }
      ]
    },
    {
      "cell_type": "markdown",
      "metadata": {
        "id": "00ldzmrCn8VN"
      },
      "source": [
        "#### The above bar chart explains that there is a class imbalance between target labels.\n"
      ]
    },
    {
      "cell_type": "markdown",
      "metadata": {
        "id": "vpOA8dXr8__9"
      },
      "source": [
        "### Let's create a XGboost classifier model with optuna hyperparemeter optimization."
      ]
    },
    {
      "cell_type": "markdown",
      "source": [
        "### Import Necessary Packages"
      ],
      "metadata": {
        "id": "IWxrHRWOX4qX"
      }
    },
    {
      "cell_type": "code",
      "execution_count": 28,
      "metadata": {
        "id": "SDheYvYwO22a"
      },
      "outputs": [],
      "source": [
        "from sklearn.model_selection import  cross_val_score,KFold,train_test_split,RepeatedStratifiedKFold,StratifiedKFold,learning_curve\n",
        "from catboost import CatBoostClassifier,Pool,cv,monoforest\n",
        "import optuna\n",
        "from optuna.samplers import RandomSampler,TPESampler,MOTPESampler,CmaEsSampler\n",
        "from sklearn.metrics import f1_score,classification_report,confusion_matrix,roc_auc_score,accuracy_score\n",
        "from xgboost import XGBClassifier,plot_tree\n",
        "import xgboost as xgb\n",
        "from optuna.integration import XGBoostPruningCallback,LightGBMPruningCallback\n",
        "from sklearn.preprocessing import LabelEncoder,StandardScaler,PolynomialFeatures\n",
        "import lightgbm as lgbm\n",
        "import math"
      ]
    },
    {
      "cell_type": "markdown",
      "source": [
        "### Split predictor and target variables."
      ],
      "metadata": {
        "id": "NkvvGUVPYezl"
      }
    },
    {
      "cell_type": "code",
      "source": [
        "for i ,col in enumerate(train.columns):\n",
        "  print(f\"{i}_{col}\")"
      ],
      "metadata": {
        "colab": {
          "base_uri": "https://localhost:8080/"
        },
        "id": "0_djnVeloLpZ",
        "outputId": "56620261-1d9e-4e3c-a66e-ac1053825e27"
      },
      "execution_count": 20,
      "outputs": [
        {
          "output_type": "stream",
          "name": "stdout",
          "text": [
            "0_absolute_magnitude\n",
            "1_est_dia_in_km(min)\n",
            "2_est_dia_in_km(max)\n",
            "3_est_dia_in_m(min)\n",
            "4_est_dia_in_m(max)\n",
            "5_est_dia_in_miles(min)\n",
            "6_est_dia_in_miles(max)\n",
            "7_est_dia_in_feet(min)\n",
            "8_est_dia_in_feet(max)\n",
            "9_relative_velocity_km_per_sec\n",
            "10_relative_velocity_km_per_hr\n",
            "11_miles_per_hour\n",
            "12_miss_dist_(astronomical)\n",
            "13_miss_dist_(lunar)\n",
            "14_miss_dist_(kilometers)\n",
            "15_miss_dist_(miles)\n",
            "16_orbit_id\n",
            "17_orbit_uncertainity\n",
            "18_minimum_orbit_intersection\n",
            "19_jupiter_tisserand_invariant\n",
            "20_epoch_osculation\n",
            "21_eccentricity\n",
            "22_semi_major_axis\n",
            "23_inclination\n",
            "24_asc_node_longitude\n",
            "25_orbital_period\n",
            "26_perihelion_distance\n",
            "27_perihelion_arg\n",
            "28_aphelion_dist\n",
            "29_perihelion_time\n",
            "30_mean_anomaly\n",
            "31_mean_motion\n",
            "32_hazardous\n",
            "33_absolute_magnitude_min\n",
            "34_absolute_magnitude_ptp\n",
            "35_absolute_magnitude_median\n",
            "36_absolute_magnitude_max\n",
            "37_est_dia_in_km(min)_min\n",
            "38_est_dia_in_km(min)_ptp\n",
            "39_est_dia_in_km(min)_median\n",
            "40_est_dia_in_km(min)_max\n",
            "41_est_dia_in_km(max)_min\n",
            "42_est_dia_in_km(max)_ptp\n",
            "43_est_dia_in_km(max)_median\n",
            "44_est_dia_in_km(max)_max\n",
            "45_est_dia_in_m(min)_min\n",
            "46_est_dia_in_m(min)_ptp\n",
            "47_est_dia_in_m(min)_median\n",
            "48_est_dia_in_m(min)_max\n",
            "49_est_dia_in_m(max)_min\n",
            "50_est_dia_in_m(max)_ptp\n",
            "51_est_dia_in_m(max)_median\n",
            "52_est_dia_in_m(max)_max\n",
            "53_est_dia_in_miles(min)_min\n",
            "54_est_dia_in_miles(min)_ptp\n",
            "55_est_dia_in_miles(min)_median\n",
            "56_est_dia_in_miles(min)_max\n",
            "57_est_dia_in_miles(max)_min\n",
            "58_est_dia_in_miles(max)_ptp\n",
            "59_est_dia_in_miles(max)_median\n",
            "60_est_dia_in_miles(max)_max\n",
            "61_est_dia_in_feet(min)_min\n",
            "62_est_dia_in_feet(min)_ptp\n",
            "63_est_dia_in_feet(min)_median\n",
            "64_est_dia_in_feet(min)_max\n",
            "65_est_dia_in_feet(max)_min\n",
            "66_est_dia_in_feet(max)_ptp\n",
            "67_est_dia_in_feet(max)_median\n",
            "68_est_dia_in_feet(max)_max\n",
            "69_relative_velocity_km_per_sec_min\n",
            "70_relative_velocity_km_per_sec_ptp\n",
            "71_relative_velocity_km_per_sec_median\n",
            "72_relative_velocity_km_per_sec_max\n",
            "73_relative_velocity_km_per_hr_min\n",
            "74_relative_velocity_km_per_hr_ptp\n",
            "75_relative_velocity_km_per_hr_median\n",
            "76_relative_velocity_km_per_hr_max\n",
            "77_miles_per_hour_min\n",
            "78_miles_per_hour_ptp\n",
            "79_miles_per_hour_median\n",
            "80_miles_per_hour_max\n",
            "81_miss_dist_(astronomical)_min\n",
            "82_miss_dist_(astronomical)_ptp\n",
            "83_miss_dist_(astronomical)_median\n",
            "84_miss_dist_(astronomical)_max\n",
            "85_miss_dist_(lunar)_min\n",
            "86_miss_dist_(lunar)_ptp\n",
            "87_miss_dist_(lunar)_median\n",
            "88_miss_dist_(lunar)_max\n",
            "89_miss_dist_(kilometers)_min\n",
            "90_miss_dist_(kilometers)_ptp\n",
            "91_miss_dist_(kilometers)_median\n",
            "92_miss_dist_(kilometers)_max\n",
            "93_miss_dist_(miles)_min\n",
            "94_miss_dist_(miles)_ptp\n",
            "95_miss_dist_(miles)_median\n",
            "96_miss_dist_(miles)_max\n",
            "97_minimum_orbit_intersection_min\n",
            "98_minimum_orbit_intersection_ptp\n",
            "99_minimum_orbit_intersection_median\n",
            "100_minimum_orbit_intersection_max\n",
            "101_jupiter_tisserand_invariant_min\n",
            "102_jupiter_tisserand_invariant_ptp\n",
            "103_jupiter_tisserand_invariant_median\n",
            "104_jupiter_tisserand_invariant_max\n",
            "105_epoch_osculation_min\n",
            "106_epoch_osculation_ptp\n",
            "107_epoch_osculation_median\n",
            "108_epoch_osculation_max\n",
            "109_eccentricity_min\n",
            "110_eccentricity_ptp\n",
            "111_eccentricity_median\n",
            "112_eccentricity_max\n",
            "113_semi_major_axis_min\n",
            "114_semi_major_axis_ptp\n",
            "115_semi_major_axis_median\n",
            "116_semi_major_axis_max\n",
            "117_inclination_min\n",
            "118_inclination_ptp\n",
            "119_inclination_median\n",
            "120_inclination_max\n",
            "121_asc_node_longitude_min\n",
            "122_asc_node_longitude_ptp\n",
            "123_asc_node_longitude_median\n",
            "124_asc_node_longitude_max\n",
            "125_orbital_period_min\n",
            "126_orbital_period_ptp\n",
            "127_orbital_period_median\n",
            "128_orbital_period_max\n",
            "129_perihelion_distance_min\n",
            "130_perihelion_distance_ptp\n",
            "131_perihelion_distance_median\n",
            "132_perihelion_distance_max\n",
            "133_perihelion_arg_min\n",
            "134_perihelion_arg_ptp\n",
            "135_perihelion_arg_median\n",
            "136_perihelion_arg_max\n",
            "137_aphelion_dist_min\n",
            "138_aphelion_dist_ptp\n",
            "139_aphelion_dist_median\n",
            "140_aphelion_dist_max\n",
            "141_perihelion_time_min\n",
            "142_perihelion_time_ptp\n",
            "143_perihelion_time_median\n",
            "144_perihelion_time_max\n",
            "145_mean_anomaly_min\n",
            "146_mean_anomaly_ptp\n",
            "147_mean_anomaly_median\n",
            "148_mean_anomaly_max\n",
            "149_mean_motion_min\n",
            "150_mean_motion_ptp\n",
            "151_mean_motion_median\n",
            "152_mean_motion_max\n",
            "153_orbitid_count\n",
            "154_orbit_uncert\n",
            "155_orbid_uncert_count\n"
          ]
        }
      ]
    },
    {
      "cell_type": "code",
      "execution_count": 11,
      "metadata": {
        "id": "R-63oPj5PCBB"
      },
      "outputs": [],
      "source": [
        "X=train.iloc[:,np.r_[0:32,33:156]]\n",
        "y=train['hazardous']"
      ]
    },
    {
      "cell_type": "markdown",
      "source": [
        "### Define XGboost model."
      ],
      "metadata": {
        "id": "iDYnL42Dut6p"
      }
    },
    {
      "cell_type": "code",
      "source": [
        "def objective(trial):\n",
        "  skf = StratifiedKFold(n_splits=10,random_state=2000,shuffle=True)\n",
        "  for i, (train_index, test_index) in enumerate(skf.split(X,y)):\n",
        "    X_train, X_valid = X.iloc[train_index], X.iloc[test_index]\n",
        "    y_train, y_valid = y.iloc[train_index], y.iloc[test_index]\n",
        "    param = {\n",
        "        \"verbosity\": 1,\n",
        "        \"objective\": \"binary:logistic\",\n",
        "        # use exact for small dataset.\n",
        "        \"tree_method\": trial.suggest_categorical(\"tree_method\",['exact', 'approx', 'hist']),\n",
        "        \"eta\": trial.suggest_float(\"eta\", 0.000001, 1.0),\n",
        "\n",
        "        #'interaction_constraints':[[2,3,8,12],[12,13,14],[5,6,9,12]],\n",
        "        # defines booster, gblinear for linear functions.\n",
        "        \"booster\": trial.suggest_categorical(\"booster\", [\"gbtree\", \"dart\"]),\n",
        "        # L2 regularization weight.\n",
        "        \"lambda\": trial.suggest_float(\"lambda\", 1e-8, 1.0, log=True),\n",
        "        # L1 regularization weight.\n",
        "        \"alpha\": trial.suggest_float(\"alpha\", 1e-8, 1.0, log=True),\n",
        "        # sampling ratio for training data.\n",
        "        \"subsample\": trial.suggest_float(\"subsample\", 0.1, 1.0),\n",
        "        # sampling according to each tree.\n",
        "        \"colsample_bytree\": trial.suggest_float(\"colsample_bytree\", 0.2, 1.0),\n",
        "\n",
        "        \"n_estimators\":trial.suggest_categorical(\"n_estimators\",[200,400,600,800,1000])\n",
        "    }\n",
        "\n",
        "    if param[\"booster\"] in [\"gbtree\", \"dart\"]:\n",
        "        # maximum depth of the tree, signifies complexity of the tree.\n",
        "        param[\"max_depth\"] = trial.suggest_int(\"max_depth\", 2, 30)\n",
        "        # minimum child weight, larger the term more conservative the tree.\n",
        "        param[\"min_child_weight\"] = trial.suggest_int(\"min_child_weight\", 2, 60)\n",
        "        \n",
        "        # defines how selective algorithm is.\n",
        "        param[\"gamma\"] = trial.suggest_float(\"gamma\", 1e-8, 1.0, log=True)\n",
        "        param[\"grow_policy\"] = trial.suggest_categorical(\"grow_policy\", [\"depthwise\", \"lossguide\"])\n",
        "\n",
        "    if param[\"booster\"] == \"dart\":\n",
        "        param[\"sample_type\"] = trial.suggest_categorical(\"sample_type\", [\"uniform\", \"weighted\"])\n",
        "        param[\"normalize_type\"] = trial.suggest_categorical(\"normalize_type\", [\"tree\", \"forest\"])\n",
        "        param[\"rate_drop\"] = trial.suggest_float(\"rate_drop\", 1e-8, 1.0, log=True)\n",
        "        param[\"skip_drop\"] = trial.suggest_float(\"skip_drop\", 1e-8, 1.0, log=True)\n",
        "    pruning_callback = optuna.integration.XGBoostPruningCallback(trial, \"validation_0-error\")\n",
        "    xgb_clf=XGBClassifier(early_stopping_rounds=50,\n",
        "                               \n",
        "                              **param)\n",
        "    xgb_clf.fit(X_train,y_train,\n",
        "               eval_set=[(X_valid, y_valid)],\n",
        "            eval_metric='error',\n",
        "            early_stopping_rounds=200,\n",
        "            callbacks=[pruning_callback],\n",
        "           \n",
        "             )\n",
        "    preds = np.clip(xgb_clf.predict_proba(X_valid)[:,1],a_min=0.0,a_max=1.0)\n",
        "    accuracy = roc_auc_score(y_valid, preds)\n",
        "    return accuracy\n",
        "\n",
        "\n",
        "if __name__ == \"__main__\":\n",
        "    study1 = optuna.create_study(direction='maximize',sampler=MOTPESampler(),\n",
        "           pruner=optuna.pruners.SuccessiveHalvingPruner())\n",
        "    study1.optimize(objective, n_trials=100)\n",
        "    print('Number of finished trials:', len(study1.trials))\n",
        "    print('Best trial:', study1.best_trial.params)  "
      ],
      "metadata": {
        "id": "t_DlOBI9uVeu"
      },
      "execution_count": null,
      "outputs": []
    },
    {
      "cell_type": "code",
      "source": [
        "study1.best_value"
      ],
      "metadata": {
        "colab": {
          "base_uri": "https://localhost:8080/"
        },
        "id": "wn2aXdJwv54A",
        "outputId": "d8465012-df9d-4b70-f4ea-57191d57ae30"
      },
      "execution_count": 31,
      "outputs": [
        {
          "output_type": "execute_result",
          "data": {
            "text/plain": [
              "0.9999303232998885"
            ]
          },
          "metadata": {},
          "execution_count": 31
        }
      ]
    },
    {
      "cell_type": "code",
      "source": [
        "study1.best_params\n"
      ],
      "metadata": {
        "colab": {
          "base_uri": "https://localhost:8080/"
        },
        "id": "22Zf6APSmdby",
        "outputId": "53176685-421b-401b-8269-40ebda54707a"
      },
      "execution_count": 32,
      "outputs": [
        {
          "output_type": "execute_result",
          "data": {
            "text/plain": [
              "{'alpha': 0.0036922728497754864,\n",
              " 'booster': 'dart',\n",
              " 'colsample_bytree': 0.95814251163105,\n",
              " 'eta': 0.5667229755182016,\n",
              " 'gamma': 3.221822994545585e-07,\n",
              " 'grow_policy': 'lossguide',\n",
              " 'lambda': 0.004851735453398697,\n",
              " 'max_depth': 23,\n",
              " 'min_child_weight': 41,\n",
              " 'n_estimators': 800,\n",
              " 'normalize_type': 'tree',\n",
              " 'rate_drop': 5.244593080019435e-06,\n",
              " 'sample_type': 'weighted',\n",
              " 'skip_drop': 1.9311103756601274e-07,\n",
              " 'subsample': 0.19771558989788213,\n",
              " 'tree_method': 'exact'}"
            ]
          },
          "metadata": {},
          "execution_count": 32
        }
      ]
    },
    {
      "cell_type": "markdown",
      "metadata": {
        "id": "8udjaswRTyRL"
      },
      "source": [
        "### Visualizing the Optimization History - Explains the best score at each trails."
      ]
    },
    {
      "cell_type": "code",
      "metadata": {
        "colab": {
          "base_uri": "https://localhost:8080/",
          "height": 542
        },
        "id": "ggS_pFhgT281",
        "outputId": "ecda4e22-ad00-4c04-c3fd-85ad80372649"
      },
      "source": [
        "optuna.visualization.plot_optimization_history(study1)"
      ],
      "execution_count": 34,
      "outputs": [
        {
          "output_type": "display_data",
          "data": {
            "text/html": [
              "<html>\n",
              "<head><meta charset=\"utf-8\" /></head>\n",
              "<body>\n",
              "    <div>            <script src=\"https://cdnjs.cloudflare.com/ajax/libs/mathjax/2.7.5/MathJax.js?config=TeX-AMS-MML_SVG\"></script><script type=\"text/javascript\">if (window.MathJax) {MathJax.Hub.Config({SVG: {font: \"STIX-Web\"}});}</script>                <script type=\"text/javascript\">window.PlotlyConfig = {MathJaxConfig: 'local'};</script>\n",
              "        <script src=\"https://cdn.plot.ly/plotly-2.8.3.min.js\"></script>                <div id=\"091a60fe-b174-4df7-8b5b-36a2c80fb172\" class=\"plotly-graph-div\" style=\"height:525px; width:100%;\"></div>            <script type=\"text/javascript\">                                    window.PLOTLYENV=window.PLOTLYENV || {};                                    if (document.getElementById(\"091a60fe-b174-4df7-8b5b-36a2c80fb172\")) {                    Plotly.newPlot(                        \"091a60fe-b174-4df7-8b5b-36a2c80fb172\",                        [{\"mode\":\"markers\",\"name\":\"Objective Value\",\"x\":[0,1,9,22,30,31,32,34,40,41,42,43,44,45,48,50,51,54,55,61,66,69,71,72,74,76,78,79,80,81,82,83,90,91,92,94,95,98],\"y\":[0.8007246376811594,0.97791248606466,0.7760590858416945,0.5,0.5,0.8007246376811594,0.7851170568561874,0.7851170568561874,0.7851170568561874,0.7851170568561874,0.7851170568561874,0.7760590858416945,0.5,0.7755016722408027,0.8007246376811594,0.8007246376811594,0.8007246376811594,0.5,0.8007246376811594,0.7760590858416945,0.7760590858416945,0.7851170568561874,0.8007246376811594,0.8007246376811594,0.7760590858416945,0.7760590858416945,0.8007246376811594,0.8007246376811594,0.8007246376811594,0.9999303232998885,0.9998606465997771,0.995540691192865,0.8007246376811594,0.8007246376811594,0.8007246376811594,0.8007246376811594,0.5,0.8007246376811594],\"type\":\"scatter\"},{\"name\":\"Best Value\",\"x\":[0,1,9,22,30,31,32,34,40,41,42,43,44,45,48,50,51,54,55,61,66,69,71,72,74,76,78,79,80,81,82,83,90,91,92,94,95,98],\"y\":[0.8007246376811594,0.97791248606466,0.97791248606466,0.97791248606466,0.97791248606466,0.97791248606466,0.97791248606466,0.97791248606466,0.97791248606466,0.97791248606466,0.97791248606466,0.97791248606466,0.97791248606466,0.97791248606466,0.97791248606466,0.97791248606466,0.97791248606466,0.97791248606466,0.97791248606466,0.97791248606466,0.97791248606466,0.97791248606466,0.97791248606466,0.97791248606466,0.97791248606466,0.97791248606466,0.97791248606466,0.97791248606466,0.97791248606466,0.9999303232998885,0.9999303232998885,0.9999303232998885,0.9999303232998885,0.9999303232998885,0.9999303232998885,0.9999303232998885,0.9999303232998885,0.9999303232998885],\"type\":\"scatter\"}],                        {\"title\":{\"text\":\"Optimization History Plot\"},\"xaxis\":{\"title\":{\"text\":\"#Trials\"}},\"yaxis\":{\"title\":{\"text\":\"Objective Value\"}},\"template\":{\"data\":{\"bar\":[{\"error_x\":{\"color\":\"#2a3f5f\"},\"error_y\":{\"color\":\"#2a3f5f\"},\"marker\":{\"line\":{\"color\":\"#E5ECF6\",\"width\":0.5},\"pattern\":{\"fillmode\":\"overlay\",\"size\":10,\"solidity\":0.2}},\"type\":\"bar\"}],\"barpolar\":[{\"marker\":{\"line\":{\"color\":\"#E5ECF6\",\"width\":0.5},\"pattern\":{\"fillmode\":\"overlay\",\"size\":10,\"solidity\":0.2}},\"type\":\"barpolar\"}],\"carpet\":[{\"aaxis\":{\"endlinecolor\":\"#2a3f5f\",\"gridcolor\":\"white\",\"linecolor\":\"white\",\"minorgridcolor\":\"white\",\"startlinecolor\":\"#2a3f5f\"},\"baxis\":{\"endlinecolor\":\"#2a3f5f\",\"gridcolor\":\"white\",\"linecolor\":\"white\",\"minorgridcolor\":\"white\",\"startlinecolor\":\"#2a3f5f\"},\"type\":\"carpet\"}],\"choropleth\":[{\"colorbar\":{\"outlinewidth\":0,\"ticks\":\"\"},\"type\":\"choropleth\"}],\"contour\":[{\"colorbar\":{\"outlinewidth\":0,\"ticks\":\"\"},\"colorscale\":[[0.0,\"#0d0887\"],[0.1111111111111111,\"#46039f\"],[0.2222222222222222,\"#7201a8\"],[0.3333333333333333,\"#9c179e\"],[0.4444444444444444,\"#bd3786\"],[0.5555555555555556,\"#d8576b\"],[0.6666666666666666,\"#ed7953\"],[0.7777777777777778,\"#fb9f3a\"],[0.8888888888888888,\"#fdca26\"],[1.0,\"#f0f921\"]],\"type\":\"contour\"}],\"contourcarpet\":[{\"colorbar\":{\"outlinewidth\":0,\"ticks\":\"\"},\"type\":\"contourcarpet\"}],\"heatmap\":[{\"colorbar\":{\"outlinewidth\":0,\"ticks\":\"\"},\"colorscale\":[[0.0,\"#0d0887\"],[0.1111111111111111,\"#46039f\"],[0.2222222222222222,\"#7201a8\"],[0.3333333333333333,\"#9c179e\"],[0.4444444444444444,\"#bd3786\"],[0.5555555555555556,\"#d8576b\"],[0.6666666666666666,\"#ed7953\"],[0.7777777777777778,\"#fb9f3a\"],[0.8888888888888888,\"#fdca26\"],[1.0,\"#f0f921\"]],\"type\":\"heatmap\"}],\"heatmapgl\":[{\"colorbar\":{\"outlinewidth\":0,\"ticks\":\"\"},\"colorscale\":[[0.0,\"#0d0887\"],[0.1111111111111111,\"#46039f\"],[0.2222222222222222,\"#7201a8\"],[0.3333333333333333,\"#9c179e\"],[0.4444444444444444,\"#bd3786\"],[0.5555555555555556,\"#d8576b\"],[0.6666666666666666,\"#ed7953\"],[0.7777777777777778,\"#fb9f3a\"],[0.8888888888888888,\"#fdca26\"],[1.0,\"#f0f921\"]],\"type\":\"heatmapgl\"}],\"histogram\":[{\"marker\":{\"pattern\":{\"fillmode\":\"overlay\",\"size\":10,\"solidity\":0.2}},\"type\":\"histogram\"}],\"histogram2d\":[{\"colorbar\":{\"outlinewidth\":0,\"ticks\":\"\"},\"colorscale\":[[0.0,\"#0d0887\"],[0.1111111111111111,\"#46039f\"],[0.2222222222222222,\"#7201a8\"],[0.3333333333333333,\"#9c179e\"],[0.4444444444444444,\"#bd3786\"],[0.5555555555555556,\"#d8576b\"],[0.6666666666666666,\"#ed7953\"],[0.7777777777777778,\"#fb9f3a\"],[0.8888888888888888,\"#fdca26\"],[1.0,\"#f0f921\"]],\"type\":\"histogram2d\"}],\"histogram2dcontour\":[{\"colorbar\":{\"outlinewidth\":0,\"ticks\":\"\"},\"colorscale\":[[0.0,\"#0d0887\"],[0.1111111111111111,\"#46039f\"],[0.2222222222222222,\"#7201a8\"],[0.3333333333333333,\"#9c179e\"],[0.4444444444444444,\"#bd3786\"],[0.5555555555555556,\"#d8576b\"],[0.6666666666666666,\"#ed7953\"],[0.7777777777777778,\"#fb9f3a\"],[0.8888888888888888,\"#fdca26\"],[1.0,\"#f0f921\"]],\"type\":\"histogram2dcontour\"}],\"mesh3d\":[{\"colorbar\":{\"outlinewidth\":0,\"ticks\":\"\"},\"type\":\"mesh3d\"}],\"parcoords\":[{\"line\":{\"colorbar\":{\"outlinewidth\":0,\"ticks\":\"\"}},\"type\":\"parcoords\"}],\"pie\":[{\"automargin\":true,\"type\":\"pie\"}],\"scatter\":[{\"marker\":{\"colorbar\":{\"outlinewidth\":0,\"ticks\":\"\"}},\"type\":\"scatter\"}],\"scatter3d\":[{\"line\":{\"colorbar\":{\"outlinewidth\":0,\"ticks\":\"\"}},\"marker\":{\"colorbar\":{\"outlinewidth\":0,\"ticks\":\"\"}},\"type\":\"scatter3d\"}],\"scattercarpet\":[{\"marker\":{\"colorbar\":{\"outlinewidth\":0,\"ticks\":\"\"}},\"type\":\"scattercarpet\"}],\"scattergeo\":[{\"marker\":{\"colorbar\":{\"outlinewidth\":0,\"ticks\":\"\"}},\"type\":\"scattergeo\"}],\"scattergl\":[{\"marker\":{\"colorbar\":{\"outlinewidth\":0,\"ticks\":\"\"}},\"type\":\"scattergl\"}],\"scattermapbox\":[{\"marker\":{\"colorbar\":{\"outlinewidth\":0,\"ticks\":\"\"}},\"type\":\"scattermapbox\"}],\"scatterpolar\":[{\"marker\":{\"colorbar\":{\"outlinewidth\":0,\"ticks\":\"\"}},\"type\":\"scatterpolar\"}],\"scatterpolargl\":[{\"marker\":{\"colorbar\":{\"outlinewidth\":0,\"ticks\":\"\"}},\"type\":\"scatterpolargl\"}],\"scatterternary\":[{\"marker\":{\"colorbar\":{\"outlinewidth\":0,\"ticks\":\"\"}},\"type\":\"scatterternary\"}],\"surface\":[{\"colorbar\":{\"outlinewidth\":0,\"ticks\":\"\"},\"colorscale\":[[0.0,\"#0d0887\"],[0.1111111111111111,\"#46039f\"],[0.2222222222222222,\"#7201a8\"],[0.3333333333333333,\"#9c179e\"],[0.4444444444444444,\"#bd3786\"],[0.5555555555555556,\"#d8576b\"],[0.6666666666666666,\"#ed7953\"],[0.7777777777777778,\"#fb9f3a\"],[0.8888888888888888,\"#fdca26\"],[1.0,\"#f0f921\"]],\"type\":\"surface\"}],\"table\":[{\"cells\":{\"fill\":{\"color\":\"#EBF0F8\"},\"line\":{\"color\":\"white\"}},\"header\":{\"fill\":{\"color\":\"#C8D4E3\"},\"line\":{\"color\":\"white\"}},\"type\":\"table\"}]},\"layout\":{\"annotationdefaults\":{\"arrowcolor\":\"#2a3f5f\",\"arrowhead\":0,\"arrowwidth\":1},\"autotypenumbers\":\"strict\",\"coloraxis\":{\"colorbar\":{\"outlinewidth\":0,\"ticks\":\"\"}},\"colorscale\":{\"diverging\":[[0,\"#8e0152\"],[0.1,\"#c51b7d\"],[0.2,\"#de77ae\"],[0.3,\"#f1b6da\"],[0.4,\"#fde0ef\"],[0.5,\"#f7f7f7\"],[0.6,\"#e6f5d0\"],[0.7,\"#b8e186\"],[0.8,\"#7fbc41\"],[0.9,\"#4d9221\"],[1,\"#276419\"]],\"sequential\":[[0.0,\"#0d0887\"],[0.1111111111111111,\"#46039f\"],[0.2222222222222222,\"#7201a8\"],[0.3333333333333333,\"#9c179e\"],[0.4444444444444444,\"#bd3786\"],[0.5555555555555556,\"#d8576b\"],[0.6666666666666666,\"#ed7953\"],[0.7777777777777778,\"#fb9f3a\"],[0.8888888888888888,\"#fdca26\"],[1.0,\"#f0f921\"]],\"sequentialminus\":[[0.0,\"#0d0887\"],[0.1111111111111111,\"#46039f\"],[0.2222222222222222,\"#7201a8\"],[0.3333333333333333,\"#9c179e\"],[0.4444444444444444,\"#bd3786\"],[0.5555555555555556,\"#d8576b\"],[0.6666666666666666,\"#ed7953\"],[0.7777777777777778,\"#fb9f3a\"],[0.8888888888888888,\"#fdca26\"],[1.0,\"#f0f921\"]]},\"colorway\":[\"#636efa\",\"#EF553B\",\"#00cc96\",\"#ab63fa\",\"#FFA15A\",\"#19d3f3\",\"#FF6692\",\"#B6E880\",\"#FF97FF\",\"#FECB52\"],\"font\":{\"color\":\"#2a3f5f\"},\"geo\":{\"bgcolor\":\"white\",\"lakecolor\":\"white\",\"landcolor\":\"#E5ECF6\",\"showlakes\":true,\"showland\":true,\"subunitcolor\":\"white\"},\"hoverlabel\":{\"align\":\"left\"},\"hovermode\":\"closest\",\"mapbox\":{\"style\":\"light\"},\"paper_bgcolor\":\"white\",\"plot_bgcolor\":\"#E5ECF6\",\"polar\":{\"angularaxis\":{\"gridcolor\":\"white\",\"linecolor\":\"white\",\"ticks\":\"\"},\"bgcolor\":\"#E5ECF6\",\"radialaxis\":{\"gridcolor\":\"white\",\"linecolor\":\"white\",\"ticks\":\"\"}},\"scene\":{\"xaxis\":{\"backgroundcolor\":\"#E5ECF6\",\"gridcolor\":\"white\",\"gridwidth\":2,\"linecolor\":\"white\",\"showbackground\":true,\"ticks\":\"\",\"zerolinecolor\":\"white\"},\"yaxis\":{\"backgroundcolor\":\"#E5ECF6\",\"gridcolor\":\"white\",\"gridwidth\":2,\"linecolor\":\"white\",\"showbackground\":true,\"ticks\":\"\",\"zerolinecolor\":\"white\"},\"zaxis\":{\"backgroundcolor\":\"#E5ECF6\",\"gridcolor\":\"white\",\"gridwidth\":2,\"linecolor\":\"white\",\"showbackground\":true,\"ticks\":\"\",\"zerolinecolor\":\"white\"}},\"shapedefaults\":{\"line\":{\"color\":\"#2a3f5f\"}},\"ternary\":{\"aaxis\":{\"gridcolor\":\"white\",\"linecolor\":\"white\",\"ticks\":\"\"},\"baxis\":{\"gridcolor\":\"white\",\"linecolor\":\"white\",\"ticks\":\"\"},\"bgcolor\":\"#E5ECF6\",\"caxis\":{\"gridcolor\":\"white\",\"linecolor\":\"white\",\"ticks\":\"\"}},\"title\":{\"x\":0.05},\"xaxis\":{\"automargin\":true,\"gridcolor\":\"white\",\"linecolor\":\"white\",\"ticks\":\"\",\"title\":{\"standoff\":15},\"zerolinecolor\":\"white\",\"zerolinewidth\":2},\"yaxis\":{\"automargin\":true,\"gridcolor\":\"white\",\"linecolor\":\"white\",\"ticks\":\"\",\"title\":{\"standoff\":15},\"zerolinecolor\":\"white\",\"zerolinewidth\":2}}}},                        {\"responsive\": true}                    ).then(function(){\n",
              "                            \n",
              "var gd = document.getElementById('091a60fe-b174-4df7-8b5b-36a2c80fb172');\n",
              "var x = new MutationObserver(function (mutations, observer) {{\n",
              "        var display = window.getComputedStyle(gd).display;\n",
              "        if (!display || display === 'none') {{\n",
              "            console.log([gd, 'removed!']);\n",
              "            Plotly.purge(gd);\n",
              "            observer.disconnect();\n",
              "        }}\n",
              "}});\n",
              "\n",
              "// Listen for the removal of the full notebook cells\n",
              "var notebookContainer = gd.closest('#notebook-container');\n",
              "if (notebookContainer) {{\n",
              "    x.observe(notebookContainer, {childList: true});\n",
              "}}\n",
              "\n",
              "// Listen for the clearing of the current output cell\n",
              "var outputEl = gd.closest('.output');\n",
              "if (outputEl) {{\n",
              "    x.observe(outputEl, {childList: true});\n",
              "}}\n",
              "\n",
              "                        })                };                            </script>        </div>\n",
              "</body>\n",
              "</html>"
            ]
          },
          "metadata": {}
        }
      ]
    },
    {
      "cell_type": "markdown",
      "metadata": {
        "id": "LIGYW8C3T_Wl"
      },
      "source": [
        "### Visualizing High-dimensional Parameter Relationships"
      ]
    },
    {
      "cell_type": "code",
      "metadata": {
        "colab": {
          "base_uri": "https://localhost:8080/",
          "height": 562
        },
        "id": "pLbvS-UCUDQg",
        "outputId": "4793e5fc-d0bf-46fb-fd5e-b7111793f108"
      },
      "source": [
        "optuna.visualization.plot_slice(study1)"
      ],
      "execution_count": 35,
      "outputs": [
        {
          "output_type": "display_data",
          "data": {
            "text/html": [
              "<html>\n",
              "<head><meta charset=\"utf-8\" /></head>\n",
              "<body>\n",
              "    <div>            <script src=\"https://cdnjs.cloudflare.com/ajax/libs/mathjax/2.7.5/MathJax.js?config=TeX-AMS-MML_SVG\"></script><script type=\"text/javascript\">if (window.MathJax) {MathJax.Hub.Config({SVG: {font: \"STIX-Web\"}});}</script>                <script type=\"text/javascript\">window.PlotlyConfig = {MathJaxConfig: 'local'};</script>\n",
              "        <script src=\"https://cdn.plot.ly/plotly-2.8.3.min.js\"></script>                <div id=\"e906e566-8c9d-4720-8221-d40019caf4b0\" class=\"plotly-graph-div\" style=\"height:525px; width:4800px;\"></div>            <script type=\"text/javascript\">                                    window.PLOTLYENV=window.PLOTLYENV || {};                                    if (document.getElementById(\"e906e566-8c9d-4720-8221-d40019caf4b0\")) {                    Plotly.newPlot(                        \"e906e566-8c9d-4720-8221-d40019caf4b0\",                        [{\"marker\":{\"color\":[0,1,9,22,30,31,32,34,40,41,42,43,44,45,48,50,51,54,55,61,66,69,71,72,74,76,78,79,80,81,82,83,90,91,92,94,95,98],\"colorbar\":{\"title\":{\"text\":\"#Trials\"},\"x\":1.0,\"xpad\":40},\"colorscale\":[[0.0,\"rgb(247,251,255)\"],[0.125,\"rgb(222,235,247)\"],[0.25,\"rgb(198,219,239)\"],[0.375,\"rgb(158,202,225)\"],[0.5,\"rgb(107,174,214)\"],[0.625,\"rgb(66,146,198)\"],[0.75,\"rgb(33,113,181)\"],[0.875,\"rgb(8,81,156)\"],[1.0,\"rgb(8,48,107)\"]],\"line\":{\"color\":\"Grey\",\"width\":0.5},\"showscale\":true},\"mode\":\"markers\",\"showlegend\":false,\"x\":[4.785749634629604e-07,0.00041992578667372446,0.006162682367734824,2.647838351459376e-06,0.002488887605603123,0.0354318140851755,0.04789034847866681,0.01820722838422372,0.016276247050689824,0.052752991703424054,0.0015612809896993361,0.00032569890611286456,0.051483287761941,0.0012144991720510728,0.2787351452487299,0.29465071149069333,0.24693054423293526,0.06929950377649288,0.27386947234118914,0.3025784590167482,0.9289062609769185,0.5522972059165008,0.10949975163032769,0.20224798311133832,0.07422870009592851,0.032489923373322765,0.004578227513602923,0.07526836362721868,0.21999258250342935,0.0036922728497754864,0.008485595925893676,0.006854526880668372,0.0041036424183078565,0.012530303213815801,0.0203364603950175,0.007374021709263551,0.0009600307049739151,0.002867281466585671],\"y\":[0.8007246376811594,0.97791248606466,0.7760590858416945,0.5,0.5,0.8007246376811594,0.7851170568561874,0.7851170568561874,0.7851170568561874,0.7851170568561874,0.7851170568561874,0.7760590858416945,0.5,0.7755016722408027,0.8007246376811594,0.8007246376811594,0.8007246376811594,0.5,0.8007246376811594,0.7760590858416945,0.7760590858416945,0.7851170568561874,0.8007246376811594,0.8007246376811594,0.7760590858416945,0.7760590858416945,0.8007246376811594,0.8007246376811594,0.8007246376811594,0.9999303232998885,0.9998606465997771,0.995540691192865,0.8007246376811594,0.8007246376811594,0.8007246376811594,0.8007246376811594,0.5,0.8007246376811594],\"type\":\"scatter\",\"xaxis\":\"x\",\"yaxis\":\"y\"},{\"marker\":{\"color\":[0,1,9,22,30,31,32,34,40,41,42,43,44,45,48,50,51,54,55,61,66,69,71,72,74,76,78,79,80,81,82,83,90,91,92,94,95,98],\"colorbar\":{\"title\":{\"text\":\"#Trials\"},\"x\":1.0,\"xpad\":40},\"colorscale\":[[0.0,\"rgb(247,251,255)\"],[0.125,\"rgb(222,235,247)\"],[0.25,\"rgb(198,219,239)\"],[0.375,\"rgb(158,202,225)\"],[0.5,\"rgb(107,174,214)\"],[0.625,\"rgb(66,146,198)\"],[0.75,\"rgb(33,113,181)\"],[0.875,\"rgb(8,81,156)\"],[1.0,\"rgb(8,48,107)\"]],\"line\":{\"color\":\"Grey\",\"width\":0.5},\"showscale\":false},\"mode\":\"markers\",\"showlegend\":false,\"x\":[\"dart\",\"dart\",\"dart\",\"dart\",\"dart\",\"dart\",\"dart\",\"dart\",\"dart\",\"dart\",\"dart\",\"dart\",\"dart\",\"dart\",\"dart\",\"dart\",\"dart\",\"dart\",\"dart\",\"dart\",\"dart\",\"dart\",\"dart\",\"dart\",\"dart\",\"dart\",\"dart\",\"dart\",\"dart\",\"dart\",\"dart\",\"dart\",\"dart\",\"dart\",\"dart\",\"dart\",\"dart\",\"gbtree\"],\"y\":[0.8007246376811594,0.97791248606466,0.7760590858416945,0.5,0.5,0.8007246376811594,0.7851170568561874,0.7851170568561874,0.7851170568561874,0.7851170568561874,0.7851170568561874,0.7760590858416945,0.5,0.7755016722408027,0.8007246376811594,0.8007246376811594,0.8007246376811594,0.5,0.8007246376811594,0.7760590858416945,0.7760590858416945,0.7851170568561874,0.8007246376811594,0.8007246376811594,0.7760590858416945,0.7760590858416945,0.8007246376811594,0.8007246376811594,0.8007246376811594,0.9999303232998885,0.9998606465997771,0.995540691192865,0.8007246376811594,0.8007246376811594,0.8007246376811594,0.8007246376811594,0.5,0.8007246376811594],\"type\":\"scatter\",\"xaxis\":\"x2\",\"yaxis\":\"y2\"},{\"marker\":{\"color\":[0,1,9,22,30,31,32,34,40,41,42,43,44,45,48,50,51,54,55,61,66,69,71,72,74,76,78,79,80,81,82,83,90,91,92,94,95,98],\"colorbar\":{\"title\":{\"text\":\"#Trials\"},\"x\":1.0,\"xpad\":40},\"colorscale\":[[0.0,\"rgb(247,251,255)\"],[0.125,\"rgb(222,235,247)\"],[0.25,\"rgb(198,219,239)\"],[0.375,\"rgb(158,202,225)\"],[0.5,\"rgb(107,174,214)\"],[0.625,\"rgb(66,146,198)\"],[0.75,\"rgb(33,113,181)\"],[0.875,\"rgb(8,81,156)\"],[1.0,\"rgb(8,48,107)\"]],\"line\":{\"color\":\"Grey\",\"width\":0.5},\"showscale\":false},\"mode\":\"markers\",\"showlegend\":false,\"x\":[0.9509446537168538,0.43796074257424505,0.8314238255063506,0.7433979685513179,0.8296412339649459,0.9945490559461794,0.9045951793621975,0.95961692387756,0.9509416902601926,0.9424092467895704,0.8868797195993239,0.833202519420869,0.9222018515690533,0.8954664824833508,0.9985431676137485,0.9937356547185515,0.9981641567621522,0.9957279146350361,0.964587771470907,0.9024326967448508,0.9403452217326946,0.9738804982518003,0.979453289421666,0.9699985744148877,0.9087999432486794,0.8832332231044489,0.9754986814534838,0.9710413732726817,0.9719846788207184,0.95814251163105,0.9749128381056252,0.9676165201348349,0.9736019727797387,0.9765641284017482,0.9566725063216266,0.944523147486046,0.8899368099639464,0.9763467078453198],\"y\":[0.8007246376811594,0.97791248606466,0.7760590858416945,0.5,0.5,0.8007246376811594,0.7851170568561874,0.7851170568561874,0.7851170568561874,0.7851170568561874,0.7851170568561874,0.7760590858416945,0.5,0.7755016722408027,0.8007246376811594,0.8007246376811594,0.8007246376811594,0.5,0.8007246376811594,0.7760590858416945,0.7760590858416945,0.7851170568561874,0.8007246376811594,0.8007246376811594,0.7760590858416945,0.7760590858416945,0.8007246376811594,0.8007246376811594,0.8007246376811594,0.9999303232998885,0.9998606465997771,0.995540691192865,0.8007246376811594,0.8007246376811594,0.8007246376811594,0.8007246376811594,0.5,0.8007246376811594],\"type\":\"scatter\",\"xaxis\":\"x3\",\"yaxis\":\"y3\"},{\"marker\":{\"color\":[0,1,9,22,30,31,32,34,40,41,42,43,44,45,48,50,51,54,55,61,66,69,71,72,74,76,78,79,80,81,82,83,90,91,92,94,95,98],\"colorbar\":{\"title\":{\"text\":\"#Trials\"},\"x\":1.0,\"xpad\":40},\"colorscale\":[[0.0,\"rgb(247,251,255)\"],[0.125,\"rgb(222,235,247)\"],[0.25,\"rgb(198,219,239)\"],[0.375,\"rgb(158,202,225)\"],[0.5,\"rgb(107,174,214)\"],[0.625,\"rgb(66,146,198)\"],[0.75,\"rgb(33,113,181)\"],[0.875,\"rgb(8,81,156)\"],[1.0,\"rgb(8,48,107)\"]],\"line\":{\"color\":\"Grey\",\"width\":0.5},\"showscale\":false},\"mode\":\"markers\",\"showlegend\":false,\"x\":[0.47813089304005135,0.2826408694698439,0.2518749722153959,0.7069441668135975,0.22314133916706153,0.44454550132269766,0.40453290911107254,0.08502805759431314,0.07876962347543638,0.07525879071858799,0.1390105522420232,0.21181311243336853,0.36622215785594914,0.2820260385942259,0.5296702222580947,0.41574408325884815,0.48530204242873964,0.4766480202893908,0.5666019513723274,0.5064945623806849,0.4846730422953633,0.7405260635653677,0.5728417124577243,0.52529274728195,0.6799575261651897,0.4983885480942171,0.5778847562134735,0.64303577944711,0.5329191160239211,0.5667229755182016,0.5802470545490614,0.650390872472179,0.5949437340556843,0.7768706686308242,0.7102404266671756,0.6703958589780075,0.5098781168310974,0.5775912401022931],\"y\":[0.8007246376811594,0.97791248606466,0.7760590858416945,0.5,0.5,0.8007246376811594,0.7851170568561874,0.7851170568561874,0.7851170568561874,0.7851170568561874,0.7851170568561874,0.7760590858416945,0.5,0.7755016722408027,0.8007246376811594,0.8007246376811594,0.8007246376811594,0.5,0.8007246376811594,0.7760590858416945,0.7760590858416945,0.7851170568561874,0.8007246376811594,0.8007246376811594,0.7760590858416945,0.7760590858416945,0.8007246376811594,0.8007246376811594,0.8007246376811594,0.9999303232998885,0.9998606465997771,0.995540691192865,0.8007246376811594,0.8007246376811594,0.8007246376811594,0.8007246376811594,0.5,0.8007246376811594],\"type\":\"scatter\",\"xaxis\":\"x4\",\"yaxis\":\"y4\"},{\"marker\":{\"color\":[0,1,9,22,30,31,32,34,40,41,42,43,44,45,48,50,51,54,55,61,66,69,71,72,74,76,78,79,80,81,82,83,90,91,92,94,95,98],\"colorbar\":{\"title\":{\"text\":\"#Trials\"},\"x\":1.0,\"xpad\":40},\"colorscale\":[[0.0,\"rgb(247,251,255)\"],[0.125,\"rgb(222,235,247)\"],[0.25,\"rgb(198,219,239)\"],[0.375,\"rgb(158,202,225)\"],[0.5,\"rgb(107,174,214)\"],[0.625,\"rgb(66,146,198)\"],[0.75,\"rgb(33,113,181)\"],[0.875,\"rgb(8,81,156)\"],[1.0,\"rgb(8,48,107)\"]],\"line\":{\"color\":\"Grey\",\"width\":0.5},\"showscale\":false},\"mode\":\"markers\",\"showlegend\":false,\"x\":[3.927443263203895e-06,4.1333410895073106e-05,0.05219071859607142,1.9543154696687584e-05,0.13292281028341799,0.0018992080078423697,0.0019937862292935056,0.009719832523972844,0.00773638170877808,0.0007908593131209743,0.002700104052743131,0.0001429438977112083,0.0005312971727150149,0.002087306643379555,5.314769740917413e-06,1.1102252790951956e-06,9.748209763876699e-07,5.284335275961375e-07,4.161500129920877e-06,3.454692199543099e-06,0.0001004606672452242,6.181912323109762e-06,6.556957052293326e-06,9.230444073236908e-08,8.663931181647784e-06,1.5210329843443893e-06,1.2735957075616175e-05,6.396134606971061e-08,1.6233655923509498e-08,3.221822994545585e-07,3.7775605350346416e-08,1.1074515421234576e-08,1.8214511909323142e-08,8.739912275590812e-08,1.5369483776535244e-07,1.34114671754601e-07,2.477889597822125e-07,1.0575092635067255e-08],\"y\":[0.8007246376811594,0.97791248606466,0.7760590858416945,0.5,0.5,0.8007246376811594,0.7851170568561874,0.7851170568561874,0.7851170568561874,0.7851170568561874,0.7851170568561874,0.7760590858416945,0.5,0.7755016722408027,0.8007246376811594,0.8007246376811594,0.8007246376811594,0.5,0.8007246376811594,0.7760590858416945,0.7760590858416945,0.7851170568561874,0.8007246376811594,0.8007246376811594,0.7760590858416945,0.7760590858416945,0.8007246376811594,0.8007246376811594,0.8007246376811594,0.9999303232998885,0.9998606465997771,0.995540691192865,0.8007246376811594,0.8007246376811594,0.8007246376811594,0.8007246376811594,0.5,0.8007246376811594],\"type\":\"scatter\",\"xaxis\":\"x5\",\"yaxis\":\"y5\"},{\"marker\":{\"color\":[0,1,9,22,30,31,32,34,40,41,42,43,44,45,48,50,51,54,55,61,66,69,71,72,74,76,78,79,80,81,82,83,90,91,92,94,95,98],\"colorbar\":{\"title\":{\"text\":\"#Trials\"},\"x\":1.0,\"xpad\":40},\"colorscale\":[[0.0,\"rgb(247,251,255)\"],[0.125,\"rgb(222,235,247)\"],[0.25,\"rgb(198,219,239)\"],[0.375,\"rgb(158,202,225)\"],[0.5,\"rgb(107,174,214)\"],[0.625,\"rgb(66,146,198)\"],[0.75,\"rgb(33,113,181)\"],[0.875,\"rgb(8,81,156)\"],[1.0,\"rgb(8,48,107)\"]],\"line\":{\"color\":\"Grey\",\"width\":0.5},\"showscale\":false},\"mode\":\"markers\",\"showlegend\":false,\"x\":[\"lossguide\",\"depthwise\",\"depthwise\",\"lossguide\",\"depthwise\",\"depthwise\",\"depthwise\",\"depthwise\",\"depthwise\",\"depthwise\",\"depthwise\",\"depthwise\",\"depthwise\",\"depthwise\",\"lossguide\",\"lossguide\",\"lossguide\",\"lossguide\",\"lossguide\",\"lossguide\",\"lossguide\",\"lossguide\",\"lossguide\",\"lossguide\",\"lossguide\",\"lossguide\",\"lossguide\",\"lossguide\",\"lossguide\",\"lossguide\",\"lossguide\",\"lossguide\",\"lossguide\",\"lossguide\",\"lossguide\",\"lossguide\",\"lossguide\",\"lossguide\"],\"y\":[0.8007246376811594,0.97791248606466,0.7760590858416945,0.5,0.5,0.8007246376811594,0.7851170568561874,0.7851170568561874,0.7851170568561874,0.7851170568561874,0.7851170568561874,0.7760590858416945,0.5,0.7755016722408027,0.8007246376811594,0.8007246376811594,0.8007246376811594,0.5,0.8007246376811594,0.7760590858416945,0.7760590858416945,0.7851170568561874,0.8007246376811594,0.8007246376811594,0.7760590858416945,0.7760590858416945,0.8007246376811594,0.8007246376811594,0.8007246376811594,0.9999303232998885,0.9998606465997771,0.995540691192865,0.8007246376811594,0.8007246376811594,0.8007246376811594,0.8007246376811594,0.5,0.8007246376811594],\"type\":\"scatter\",\"xaxis\":\"x6\",\"yaxis\":\"y6\"},{\"marker\":{\"color\":[0,1,9,22,30,31,32,34,40,41,42,43,44,45,48,50,51,54,55,61,66,69,71,72,74,76,78,79,80,81,82,83,90,91,92,94,95,98],\"colorbar\":{\"title\":{\"text\":\"#Trials\"},\"x\":1.0,\"xpad\":40},\"colorscale\":[[0.0,\"rgb(247,251,255)\"],[0.125,\"rgb(222,235,247)\"],[0.25,\"rgb(198,219,239)\"],[0.375,\"rgb(158,202,225)\"],[0.5,\"rgb(107,174,214)\"],[0.625,\"rgb(66,146,198)\"],[0.75,\"rgb(33,113,181)\"],[0.875,\"rgb(8,81,156)\"],[1.0,\"rgb(8,48,107)\"]],\"line\":{\"color\":\"Grey\",\"width\":0.5},\"showscale\":false},\"mode\":\"markers\",\"showlegend\":false,\"x\":[0.015305832080418736,0.008572398336105938,0.005778182211456103,0.05405573673111579,0.0039047655123025087,0.025681016970673633,0.015563114580799915,0.11981872386054092,0.112537745582341,0.38901266639461596,0.025195075570963846,0.06853438418663707,0.29148938669940955,0.009802531943291889,0.0005421054682521337,0.0006609434318478987,0.0007573475967851244,0.003362362426490941,2.707523975007753e-05,0.0008054968180740977,1.0584749947423659e-08,2.7962926057662777e-06,0.0017105992340802352,0.0031678898271673144,0.0017977145683233493,0.02456953853419755,0.0055317159706779855,0.002882856394344927,0.0012251467990747513,0.004851735453398697,0.004053906190849828,0.0036907740322488494,0.005950837472133529,0.0028803037648617346,0.003268089536308522,0.041007641670080204,0.0018919206416518587,0.002213880871081211],\"y\":[0.8007246376811594,0.97791248606466,0.7760590858416945,0.5,0.5,0.8007246376811594,0.7851170568561874,0.7851170568561874,0.7851170568561874,0.7851170568561874,0.7851170568561874,0.7760590858416945,0.5,0.7755016722408027,0.8007246376811594,0.8007246376811594,0.8007246376811594,0.5,0.8007246376811594,0.7760590858416945,0.7760590858416945,0.7851170568561874,0.8007246376811594,0.8007246376811594,0.7760590858416945,0.7760590858416945,0.8007246376811594,0.8007246376811594,0.8007246376811594,0.9999303232998885,0.9998606465997771,0.995540691192865,0.8007246376811594,0.8007246376811594,0.8007246376811594,0.8007246376811594,0.5,0.8007246376811594],\"type\":\"scatter\",\"xaxis\":\"x7\",\"yaxis\":\"y7\"},{\"marker\":{\"color\":[0,1,9,22,30,31,32,34,40,41,42,43,44,45,48,50,51,54,55,61,66,69,71,72,74,76,78,79,80,81,82,83,90,91,92,94,95,98],\"colorbar\":{\"title\":{\"text\":\"#Trials\"},\"x\":1.0,\"xpad\":40},\"colorscale\":[[0.0,\"rgb(247,251,255)\"],[0.125,\"rgb(222,235,247)\"],[0.25,\"rgb(198,219,239)\"],[0.375,\"rgb(158,202,225)\"],[0.5,\"rgb(107,174,214)\"],[0.625,\"rgb(66,146,198)\"],[0.75,\"rgb(33,113,181)\"],[0.875,\"rgb(8,81,156)\"],[1.0,\"rgb(8,48,107)\"]],\"line\":{\"color\":\"Grey\",\"width\":0.5},\"showscale\":false},\"mode\":\"markers\",\"showlegend\":false,\"x\":[3,11,25,11,26,26,28,21,21,24,22,19,30,26,28,29,28,27,28,28,23,28,25,30,27,29,23,30,30,23,23,23,20,24,22,22,25,21],\"y\":[0.8007246376811594,0.97791248606466,0.7760590858416945,0.5,0.5,0.8007246376811594,0.7851170568561874,0.7851170568561874,0.7851170568561874,0.7851170568561874,0.7851170568561874,0.7760590858416945,0.5,0.7755016722408027,0.8007246376811594,0.8007246376811594,0.8007246376811594,0.5,0.8007246376811594,0.7760590858416945,0.7760590858416945,0.7851170568561874,0.8007246376811594,0.8007246376811594,0.7760590858416945,0.7760590858416945,0.8007246376811594,0.8007246376811594,0.8007246376811594,0.9999303232998885,0.9998606465997771,0.995540691192865,0.8007246376811594,0.8007246376811594,0.8007246376811594,0.8007246376811594,0.5,0.8007246376811594],\"type\":\"scatter\",\"xaxis\":\"x8\",\"yaxis\":\"y8\"},{\"marker\":{\"color\":[0,1,9,22,30,31,32,34,40,41,42,43,44,45,48,50,51,54,55,61,66,69,71,72,74,76,78,79,80,81,82,83,90,91,92,94,95,98],\"colorbar\":{\"title\":{\"text\":\"#Trials\"},\"x\":1.0,\"xpad\":40},\"colorscale\":[[0.0,\"rgb(247,251,255)\"],[0.125,\"rgb(222,235,247)\"],[0.25,\"rgb(198,219,239)\"],[0.375,\"rgb(158,202,225)\"],[0.5,\"rgb(107,174,214)\"],[0.625,\"rgb(66,146,198)\"],[0.75,\"rgb(33,113,181)\"],[0.875,\"rgb(8,81,156)\"],[1.0,\"rgb(8,48,107)\"]],\"line\":{\"color\":\"Grey\",\"width\":0.5},\"showscale\":false},\"mode\":\"markers\",\"showlegend\":false,\"x\":[31,14,41,47,55,43,45,52,55,43,51,57,44,49,33,32,33,41,33,32,36,30,41,32,40,31,42,27,33,41,42,42,42,48,39,39,44,42],\"y\":[0.8007246376811594,0.97791248606466,0.7760590858416945,0.5,0.5,0.8007246376811594,0.7851170568561874,0.7851170568561874,0.7851170568561874,0.7851170568561874,0.7851170568561874,0.7760590858416945,0.5,0.7755016722408027,0.8007246376811594,0.8007246376811594,0.8007246376811594,0.5,0.8007246376811594,0.7760590858416945,0.7760590858416945,0.7851170568561874,0.8007246376811594,0.8007246376811594,0.7760590858416945,0.7760590858416945,0.8007246376811594,0.8007246376811594,0.8007246376811594,0.9999303232998885,0.9998606465997771,0.995540691192865,0.8007246376811594,0.8007246376811594,0.8007246376811594,0.8007246376811594,0.5,0.8007246376811594],\"type\":\"scatter\",\"xaxis\":\"x9\",\"yaxis\":\"y9\"},{\"marker\":{\"color\":[0,1,9,22,30,31,32,34,40,41,42,43,44,45,48,50,51,54,55,61,66,69,71,72,74,76,78,79,80,81,82,83,90,91,92,94,95,98],\"colorbar\":{\"title\":{\"text\":\"#Trials\"},\"x\":1.0,\"xpad\":40},\"colorscale\":[[0.0,\"rgb(247,251,255)\"],[0.125,\"rgb(222,235,247)\"],[0.25,\"rgb(198,219,239)\"],[0.375,\"rgb(158,202,225)\"],[0.5,\"rgb(107,174,214)\"],[0.625,\"rgb(66,146,198)\"],[0.75,\"rgb(33,113,181)\"],[0.875,\"rgb(8,81,156)\"],[1.0,\"rgb(8,48,107)\"]],\"line\":{\"color\":\"Grey\",\"width\":0.5},\"showscale\":false},\"mode\":\"markers\",\"showlegend\":false,\"x\":[1000,400,800,1000,800,800,800,800,800,800,800,800,800,800,800,800,800,800,800,800,800,1000,800,800,800,800,800,1000,800,800,800,800,1000,1000,1000,1000,800,800],\"y\":[0.8007246376811594,0.97791248606466,0.7760590858416945,0.5,0.5,0.8007246376811594,0.7851170568561874,0.7851170568561874,0.7851170568561874,0.7851170568561874,0.7851170568561874,0.7760590858416945,0.5,0.7755016722408027,0.8007246376811594,0.8007246376811594,0.8007246376811594,0.5,0.8007246376811594,0.7760590858416945,0.7760590858416945,0.7851170568561874,0.8007246376811594,0.8007246376811594,0.7760590858416945,0.7760590858416945,0.8007246376811594,0.8007246376811594,0.8007246376811594,0.9999303232998885,0.9998606465997771,0.995540691192865,0.8007246376811594,0.8007246376811594,0.8007246376811594,0.8007246376811594,0.5,0.8007246376811594],\"type\":\"scatter\",\"xaxis\":\"x10\",\"yaxis\":\"y10\"},{\"marker\":{\"color\":[0,1,9,22,30,31,32,34,40,41,42,43,44,45,48,50,51,54,55,61,66,69,71,72,74,76,78,79,80,81,82,83,90,91,92,94,95],\"colorbar\":{\"title\":{\"text\":\"#Trials\"},\"x\":1.0,\"xpad\":40},\"colorscale\":[[0.0,\"rgb(247,251,255)\"],[0.125,\"rgb(222,235,247)\"],[0.25,\"rgb(198,219,239)\"],[0.375,\"rgb(158,202,225)\"],[0.5,\"rgb(107,174,214)\"],[0.625,\"rgb(66,146,198)\"],[0.75,\"rgb(33,113,181)\"],[0.875,\"rgb(8,81,156)\"],[1.0,\"rgb(8,48,107)\"]],\"line\":{\"color\":\"Grey\",\"width\":0.5},\"showscale\":false},\"mode\":\"markers\",\"showlegend\":false,\"x\":[\"forest\",\"tree\",\"forest\",\"forest\",\"forest\",\"forest\",\"forest\",\"forest\",\"forest\",\"forest\",\"forest\",\"forest\",\"forest\",\"forest\",\"tree\",\"tree\",\"tree\",\"tree\",\"tree\",\"tree\",\"tree\",\"tree\",\"tree\",\"tree\",\"tree\",\"tree\",\"tree\",\"tree\",\"tree\",\"tree\",\"tree\",\"tree\",\"tree\",\"tree\",\"tree\",\"tree\",\"tree\"],\"y\":[0.8007246376811594,0.97791248606466,0.7760590858416945,0.5,0.5,0.8007246376811594,0.7851170568561874,0.7851170568561874,0.7851170568561874,0.7851170568561874,0.7851170568561874,0.7760590858416945,0.5,0.7755016722408027,0.8007246376811594,0.8007246376811594,0.8007246376811594,0.5,0.8007246376811594,0.7760590858416945,0.7760590858416945,0.7851170568561874,0.8007246376811594,0.8007246376811594,0.7760590858416945,0.7760590858416945,0.8007246376811594,0.8007246376811594,0.8007246376811594,0.9999303232998885,0.9998606465997771,0.995540691192865,0.8007246376811594,0.8007246376811594,0.8007246376811594,0.8007246376811594,0.5],\"type\":\"scatter\",\"xaxis\":\"x11\",\"yaxis\":\"y11\"},{\"marker\":{\"color\":[0,1,9,22,30,31,32,34,40,41,42,43,44,45,48,50,51,54,55,61,66,69,71,72,74,76,78,79,80,81,82,83,90,91,92,94,95],\"colorbar\":{\"title\":{\"text\":\"#Trials\"},\"x\":1.0,\"xpad\":40},\"colorscale\":[[0.0,\"rgb(247,251,255)\"],[0.125,\"rgb(222,235,247)\"],[0.25,\"rgb(198,219,239)\"],[0.375,\"rgb(158,202,225)\"],[0.5,\"rgb(107,174,214)\"],[0.625,\"rgb(66,146,198)\"],[0.75,\"rgb(33,113,181)\"],[0.875,\"rgb(8,81,156)\"],[1.0,\"rgb(8,48,107)\"]],\"line\":{\"color\":\"Grey\",\"width\":0.5},\"showscale\":false},\"mode\":\"markers\",\"showlegend\":false,\"x\":[0.0006629429334082318,0.845661138076169,6.244210651911314e-08,6.096599064830449e-05,1.045014071504333e-07,1.5498998600244877e-05,1.1417772359036881e-08,0.0003358218694249505,0.0004223763768815994,0.011398289659342399,0.0001701468191360873,0.001814095523643739,0.11139179899382005,0.00011434178048346672,2.430756581341516e-07,1.0706821266741705e-08,4.028603612021255e-07,8.539703990724937e-07,2.5658312284996263e-08,5.308320479136226e-07,1.0363685406113674e-08,3.951237092291388e-08,2.746528769069758e-06,5.322156015200344e-07,1.8020508552646797e-08,5.499608239389217e-08,4.704958533203532e-06,5.70143193306703e-07,2.4332353948414943e-07,5.244593080019435e-06,4.4753356882539956e-06,6.100787099914913e-06,3.885502907522566e-06,5.881255364550081e-07,7.720825484305422e-07,2.1689242966255122e-05,8.565006887922577e-06],\"y\":[0.8007246376811594,0.97791248606466,0.7760590858416945,0.5,0.5,0.8007246376811594,0.7851170568561874,0.7851170568561874,0.7851170568561874,0.7851170568561874,0.7851170568561874,0.7760590858416945,0.5,0.7755016722408027,0.8007246376811594,0.8007246376811594,0.8007246376811594,0.5,0.8007246376811594,0.7760590858416945,0.7760590858416945,0.7851170568561874,0.8007246376811594,0.8007246376811594,0.7760590858416945,0.7760590858416945,0.8007246376811594,0.8007246376811594,0.8007246376811594,0.9999303232998885,0.9998606465997771,0.995540691192865,0.8007246376811594,0.8007246376811594,0.8007246376811594,0.8007246376811594,0.5],\"type\":\"scatter\",\"xaxis\":\"x12\",\"yaxis\":\"y12\"},{\"marker\":{\"color\":[0,1,9,22,30,31,32,34,40,41,42,43,44,45,48,50,51,54,55,61,66,69,71,72,74,76,78,79,80,81,82,83,90,91,92,94,95],\"colorbar\":{\"title\":{\"text\":\"#Trials\"},\"x\":1.0,\"xpad\":40},\"colorscale\":[[0.0,\"rgb(247,251,255)\"],[0.125,\"rgb(222,235,247)\"],[0.25,\"rgb(198,219,239)\"],[0.375,\"rgb(158,202,225)\"],[0.5,\"rgb(107,174,214)\"],[0.625,\"rgb(66,146,198)\"],[0.75,\"rgb(33,113,181)\"],[0.875,\"rgb(8,81,156)\"],[1.0,\"rgb(8,48,107)\"]],\"line\":{\"color\":\"Grey\",\"width\":0.5},\"showscale\":false},\"mode\":\"markers\",\"showlegend\":false,\"x\":[\"weighted\",\"weighted\",\"uniform\",\"weighted\",\"uniform\",\"uniform\",\"uniform\",\"uniform\",\"uniform\",\"uniform\",\"uniform\",\"uniform\",\"uniform\",\"uniform\",\"weighted\",\"weighted\",\"weighted\",\"weighted\",\"weighted\",\"weighted\",\"weighted\",\"weighted\",\"weighted\",\"weighted\",\"weighted\",\"weighted\",\"weighted\",\"weighted\",\"weighted\",\"weighted\",\"weighted\",\"weighted\",\"weighted\",\"weighted\",\"weighted\",\"weighted\",\"weighted\"],\"y\":[0.8007246376811594,0.97791248606466,0.7760590858416945,0.5,0.5,0.8007246376811594,0.7851170568561874,0.7851170568561874,0.7851170568561874,0.7851170568561874,0.7851170568561874,0.7760590858416945,0.5,0.7755016722408027,0.8007246376811594,0.8007246376811594,0.8007246376811594,0.5,0.8007246376811594,0.7760590858416945,0.7760590858416945,0.7851170568561874,0.8007246376811594,0.8007246376811594,0.7760590858416945,0.7760590858416945,0.8007246376811594,0.8007246376811594,0.8007246376811594,0.9999303232998885,0.9998606465997771,0.995540691192865,0.8007246376811594,0.8007246376811594,0.8007246376811594,0.8007246376811594,0.5],\"type\":\"scatter\",\"xaxis\":\"x13\",\"yaxis\":\"y13\"},{\"marker\":{\"color\":[0,1,9,22,30,31,32,34,40,41,42,43,44,45,48,50,51,54,55,61,66,69,71,72,74,76,78,79,80,81,82,83,90,91,92,94,95],\"colorbar\":{\"title\":{\"text\":\"#Trials\"},\"x\":1.0,\"xpad\":40},\"colorscale\":[[0.0,\"rgb(247,251,255)\"],[0.125,\"rgb(222,235,247)\"],[0.25,\"rgb(198,219,239)\"],[0.375,\"rgb(158,202,225)\"],[0.5,\"rgb(107,174,214)\"],[0.625,\"rgb(66,146,198)\"],[0.75,\"rgb(33,113,181)\"],[0.875,\"rgb(8,81,156)\"],[1.0,\"rgb(8,48,107)\"]],\"line\":{\"color\":\"Grey\",\"width\":0.5},\"showscale\":false},\"mode\":\"markers\",\"showlegend\":false,\"x\":[8.592160808484311e-08,0.0002098609673190902,2.1404419057035347e-06,4.303172034762124e-06,1.4838404814299983e-06,1.0842025340822232e-07,5.476529561735761e-08,3.9780369543663176e-05,6.770741537228555e-05,1.821696289144239e-05,3.064331443962494e-06,0.00783534394198849,1.4729399802006001e-05,3.4368051822953657e-06,3.973429129926925e-08,4.2424722244864124e-08,1.4572161829658983e-07,1.332825990971301e-07,1.1209349531040335e-08,1.001666634791327e-08,2.124812748231989e-08,5.06525433374643e-07,8.462972706488909e-08,1.9643421738679192e-07,6.944267066196549e-08,1.325187296245997e-07,2.8680835943154644e-07,2.393392602110783e-07,6.202624165730926e-07,1.9311103756601274e-07,2.5108736661790623e-07,6.745282084320742e-07,6.670692927266702e-07,2.361962401840629e-07,5.201589309303489e-07,9.277875953450258e-08,1.1446996544765086e-07],\"y\":[0.8007246376811594,0.97791248606466,0.7760590858416945,0.5,0.5,0.8007246376811594,0.7851170568561874,0.7851170568561874,0.7851170568561874,0.7851170568561874,0.7851170568561874,0.7760590858416945,0.5,0.7755016722408027,0.8007246376811594,0.8007246376811594,0.8007246376811594,0.5,0.8007246376811594,0.7760590858416945,0.7760590858416945,0.7851170568561874,0.8007246376811594,0.8007246376811594,0.7760590858416945,0.7760590858416945,0.8007246376811594,0.8007246376811594,0.8007246376811594,0.9999303232998885,0.9998606465997771,0.995540691192865,0.8007246376811594,0.8007246376811594,0.8007246376811594,0.8007246376811594,0.5],\"type\":\"scatter\",\"xaxis\":\"x14\",\"yaxis\":\"y14\"},{\"marker\":{\"color\":[0,1,9,22,30,31,32,34,40,41,42,43,44,45,48,50,51,54,55,61,66,69,71,72,74,76,78,79,80,81,82,83,90,91,92,94,95,98],\"colorbar\":{\"title\":{\"text\":\"#Trials\"},\"x\":1.0,\"xpad\":40},\"colorscale\":[[0.0,\"rgb(247,251,255)\"],[0.125,\"rgb(222,235,247)\"],[0.25,\"rgb(198,219,239)\"],[0.375,\"rgb(158,202,225)\"],[0.5,\"rgb(107,174,214)\"],[0.625,\"rgb(66,146,198)\"],[0.75,\"rgb(33,113,181)\"],[0.875,\"rgb(8,81,156)\"],[1.0,\"rgb(8,48,107)\"]],\"line\":{\"color\":\"Grey\",\"width\":0.5},\"showscale\":false},\"mode\":\"markers\",\"showlegend\":false,\"x\":[0.12723578428606136,0.9641483071606269,0.12863336055721103,0.11301914688486797,0.10991349505723041,0.1771698786305721,0.178408104788101,0.19627323368834426,0.15788118505487617,0.19237824912872947,0.21341777597392192,0.16749783511428035,0.1031854279723526,0.22180779428004158,0.15912054896661473,0.15247379785781454,0.15975284203791687,0.10045026818912538,0.14848853014592756,0.13856273837045008,0.12645134433046457,0.10387905872379809,0.16580512664850694,0.14133579924534517,0.1662479724063953,0.12764313454346246,0.18364974664550962,0.12716809658814776,0.15842255130287727,0.19771558989788213,0.2032771355907964,0.2065869251283428,0.1264214034054678,0.18891604066317055,0.131404558215749,0.1735547003282271,0.11649045869567558,0.18478285945915254],\"y\":[0.8007246376811594,0.97791248606466,0.7760590858416945,0.5,0.5,0.8007246376811594,0.7851170568561874,0.7851170568561874,0.7851170568561874,0.7851170568561874,0.7851170568561874,0.7760590858416945,0.5,0.7755016722408027,0.8007246376811594,0.8007246376811594,0.8007246376811594,0.5,0.8007246376811594,0.7760590858416945,0.7760590858416945,0.7851170568561874,0.8007246376811594,0.8007246376811594,0.7760590858416945,0.7760590858416945,0.8007246376811594,0.8007246376811594,0.8007246376811594,0.9999303232998885,0.9998606465997771,0.995540691192865,0.8007246376811594,0.8007246376811594,0.8007246376811594,0.8007246376811594,0.5,0.8007246376811594],\"type\":\"scatter\",\"xaxis\":\"x15\",\"yaxis\":\"y15\"},{\"marker\":{\"color\":[0,1,9,22,30,31,32,34,40,41,42,43,44,45,48,50,51,54,55,61,66,69,71,72,74,76,78,79,80,81,82,83,90,91,92,94,95,98],\"colorbar\":{\"title\":{\"text\":\"#Trials\"},\"x\":1.0,\"xpad\":40},\"colorscale\":[[0.0,\"rgb(247,251,255)\"],[0.125,\"rgb(222,235,247)\"],[0.25,\"rgb(198,219,239)\"],[0.375,\"rgb(158,202,225)\"],[0.5,\"rgb(107,174,214)\"],[0.625,\"rgb(66,146,198)\"],[0.75,\"rgb(33,113,181)\"],[0.875,\"rgb(8,81,156)\"],[1.0,\"rgb(8,48,107)\"]],\"line\":{\"color\":\"Grey\",\"width\":0.5},\"showscale\":false},\"mode\":\"markers\",\"showlegend\":false,\"x\":[\"exact\",\"exact\",\"approx\",\"exact\",\"approx\",\"approx\",\"approx\",\"approx\",\"approx\",\"approx\",\"approx\",\"approx\",\"approx\",\"approx\",\"exact\",\"exact\",\"exact\",\"exact\",\"exact\",\"exact\",\"exact\",\"exact\",\"exact\",\"exact\",\"exact\",\"exact\",\"exact\",\"exact\",\"exact\",\"exact\",\"exact\",\"exact\",\"exact\",\"exact\",\"exact\",\"hist\",\"exact\",\"exact\"],\"y\":[0.8007246376811594,0.97791248606466,0.7760590858416945,0.5,0.5,0.8007246376811594,0.7851170568561874,0.7851170568561874,0.7851170568561874,0.7851170568561874,0.7851170568561874,0.7760590858416945,0.5,0.7755016722408027,0.8007246376811594,0.8007246376811594,0.8007246376811594,0.5,0.8007246376811594,0.7760590858416945,0.7760590858416945,0.7851170568561874,0.8007246376811594,0.8007246376811594,0.7760590858416945,0.7760590858416945,0.8007246376811594,0.8007246376811594,0.8007246376811594,0.9999303232998885,0.9998606465997771,0.995540691192865,0.8007246376811594,0.8007246376811594,0.8007246376811594,0.8007246376811594,0.5,0.8007246376811594],\"type\":\"scatter\",\"xaxis\":\"x16\",\"yaxis\":\"y16\"}],                        {\"template\":{\"data\":{\"bar\":[{\"error_x\":{\"color\":\"#2a3f5f\"},\"error_y\":{\"color\":\"#2a3f5f\"},\"marker\":{\"line\":{\"color\":\"#E5ECF6\",\"width\":0.5},\"pattern\":{\"fillmode\":\"overlay\",\"size\":10,\"solidity\":0.2}},\"type\":\"bar\"}],\"barpolar\":[{\"marker\":{\"line\":{\"color\":\"#E5ECF6\",\"width\":0.5},\"pattern\":{\"fillmode\":\"overlay\",\"size\":10,\"solidity\":0.2}},\"type\":\"barpolar\"}],\"carpet\":[{\"aaxis\":{\"endlinecolor\":\"#2a3f5f\",\"gridcolor\":\"white\",\"linecolor\":\"white\",\"minorgridcolor\":\"white\",\"startlinecolor\":\"#2a3f5f\"},\"baxis\":{\"endlinecolor\":\"#2a3f5f\",\"gridcolor\":\"white\",\"linecolor\":\"white\",\"minorgridcolor\":\"white\",\"startlinecolor\":\"#2a3f5f\"},\"type\":\"carpet\"}],\"choropleth\":[{\"colorbar\":{\"outlinewidth\":0,\"ticks\":\"\"},\"type\":\"choropleth\"}],\"contour\":[{\"colorbar\":{\"outlinewidth\":0,\"ticks\":\"\"},\"colorscale\":[[0.0,\"#0d0887\"],[0.1111111111111111,\"#46039f\"],[0.2222222222222222,\"#7201a8\"],[0.3333333333333333,\"#9c179e\"],[0.4444444444444444,\"#bd3786\"],[0.5555555555555556,\"#d8576b\"],[0.6666666666666666,\"#ed7953\"],[0.7777777777777778,\"#fb9f3a\"],[0.8888888888888888,\"#fdca26\"],[1.0,\"#f0f921\"]],\"type\":\"contour\"}],\"contourcarpet\":[{\"colorbar\":{\"outlinewidth\":0,\"ticks\":\"\"},\"type\":\"contourcarpet\"}],\"heatmap\":[{\"colorbar\":{\"outlinewidth\":0,\"ticks\":\"\"},\"colorscale\":[[0.0,\"#0d0887\"],[0.1111111111111111,\"#46039f\"],[0.2222222222222222,\"#7201a8\"],[0.3333333333333333,\"#9c179e\"],[0.4444444444444444,\"#bd3786\"],[0.5555555555555556,\"#d8576b\"],[0.6666666666666666,\"#ed7953\"],[0.7777777777777778,\"#fb9f3a\"],[0.8888888888888888,\"#fdca26\"],[1.0,\"#f0f921\"]],\"type\":\"heatmap\"}],\"heatmapgl\":[{\"colorbar\":{\"outlinewidth\":0,\"ticks\":\"\"},\"colorscale\":[[0.0,\"#0d0887\"],[0.1111111111111111,\"#46039f\"],[0.2222222222222222,\"#7201a8\"],[0.3333333333333333,\"#9c179e\"],[0.4444444444444444,\"#bd3786\"],[0.5555555555555556,\"#d8576b\"],[0.6666666666666666,\"#ed7953\"],[0.7777777777777778,\"#fb9f3a\"],[0.8888888888888888,\"#fdca26\"],[1.0,\"#f0f921\"]],\"type\":\"heatmapgl\"}],\"histogram\":[{\"marker\":{\"pattern\":{\"fillmode\":\"overlay\",\"size\":10,\"solidity\":0.2}},\"type\":\"histogram\"}],\"histogram2d\":[{\"colorbar\":{\"outlinewidth\":0,\"ticks\":\"\"},\"colorscale\":[[0.0,\"#0d0887\"],[0.1111111111111111,\"#46039f\"],[0.2222222222222222,\"#7201a8\"],[0.3333333333333333,\"#9c179e\"],[0.4444444444444444,\"#bd3786\"],[0.5555555555555556,\"#d8576b\"],[0.6666666666666666,\"#ed7953\"],[0.7777777777777778,\"#fb9f3a\"],[0.8888888888888888,\"#fdca26\"],[1.0,\"#f0f921\"]],\"type\":\"histogram2d\"}],\"histogram2dcontour\":[{\"colorbar\":{\"outlinewidth\":0,\"ticks\":\"\"},\"colorscale\":[[0.0,\"#0d0887\"],[0.1111111111111111,\"#46039f\"],[0.2222222222222222,\"#7201a8\"],[0.3333333333333333,\"#9c179e\"],[0.4444444444444444,\"#bd3786\"],[0.5555555555555556,\"#d8576b\"],[0.6666666666666666,\"#ed7953\"],[0.7777777777777778,\"#fb9f3a\"],[0.8888888888888888,\"#fdca26\"],[1.0,\"#f0f921\"]],\"type\":\"histogram2dcontour\"}],\"mesh3d\":[{\"colorbar\":{\"outlinewidth\":0,\"ticks\":\"\"},\"type\":\"mesh3d\"}],\"parcoords\":[{\"line\":{\"colorbar\":{\"outlinewidth\":0,\"ticks\":\"\"}},\"type\":\"parcoords\"}],\"pie\":[{\"automargin\":true,\"type\":\"pie\"}],\"scatter\":[{\"marker\":{\"colorbar\":{\"outlinewidth\":0,\"ticks\":\"\"}},\"type\":\"scatter\"}],\"scatter3d\":[{\"line\":{\"colorbar\":{\"outlinewidth\":0,\"ticks\":\"\"}},\"marker\":{\"colorbar\":{\"outlinewidth\":0,\"ticks\":\"\"}},\"type\":\"scatter3d\"}],\"scattercarpet\":[{\"marker\":{\"colorbar\":{\"outlinewidth\":0,\"ticks\":\"\"}},\"type\":\"scattercarpet\"}],\"scattergeo\":[{\"marker\":{\"colorbar\":{\"outlinewidth\":0,\"ticks\":\"\"}},\"type\":\"scattergeo\"}],\"scattergl\":[{\"marker\":{\"colorbar\":{\"outlinewidth\":0,\"ticks\":\"\"}},\"type\":\"scattergl\"}],\"scattermapbox\":[{\"marker\":{\"colorbar\":{\"outlinewidth\":0,\"ticks\":\"\"}},\"type\":\"scattermapbox\"}],\"scatterpolar\":[{\"marker\":{\"colorbar\":{\"outlinewidth\":0,\"ticks\":\"\"}},\"type\":\"scatterpolar\"}],\"scatterpolargl\":[{\"marker\":{\"colorbar\":{\"outlinewidth\":0,\"ticks\":\"\"}},\"type\":\"scatterpolargl\"}],\"scatterternary\":[{\"marker\":{\"colorbar\":{\"outlinewidth\":0,\"ticks\":\"\"}},\"type\":\"scatterternary\"}],\"surface\":[{\"colorbar\":{\"outlinewidth\":0,\"ticks\":\"\"},\"colorscale\":[[0.0,\"#0d0887\"],[0.1111111111111111,\"#46039f\"],[0.2222222222222222,\"#7201a8\"],[0.3333333333333333,\"#9c179e\"],[0.4444444444444444,\"#bd3786\"],[0.5555555555555556,\"#d8576b\"],[0.6666666666666666,\"#ed7953\"],[0.7777777777777778,\"#fb9f3a\"],[0.8888888888888888,\"#fdca26\"],[1.0,\"#f0f921\"]],\"type\":\"surface\"}],\"table\":[{\"cells\":{\"fill\":{\"color\":\"#EBF0F8\"},\"line\":{\"color\":\"white\"}},\"header\":{\"fill\":{\"color\":\"#C8D4E3\"},\"line\":{\"color\":\"white\"}},\"type\":\"table\"}]},\"layout\":{\"annotationdefaults\":{\"arrowcolor\":\"#2a3f5f\",\"arrowhead\":0,\"arrowwidth\":1},\"autotypenumbers\":\"strict\",\"coloraxis\":{\"colorbar\":{\"outlinewidth\":0,\"ticks\":\"\"}},\"colorscale\":{\"diverging\":[[0,\"#8e0152\"],[0.1,\"#c51b7d\"],[0.2,\"#de77ae\"],[0.3,\"#f1b6da\"],[0.4,\"#fde0ef\"],[0.5,\"#f7f7f7\"],[0.6,\"#e6f5d0\"],[0.7,\"#b8e186\"],[0.8,\"#7fbc41\"],[0.9,\"#4d9221\"],[1,\"#276419\"]],\"sequential\":[[0.0,\"#0d0887\"],[0.1111111111111111,\"#46039f\"],[0.2222222222222222,\"#7201a8\"],[0.3333333333333333,\"#9c179e\"],[0.4444444444444444,\"#bd3786\"],[0.5555555555555556,\"#d8576b\"],[0.6666666666666666,\"#ed7953\"],[0.7777777777777778,\"#fb9f3a\"],[0.8888888888888888,\"#fdca26\"],[1.0,\"#f0f921\"]],\"sequentialminus\":[[0.0,\"#0d0887\"],[0.1111111111111111,\"#46039f\"],[0.2222222222222222,\"#7201a8\"],[0.3333333333333333,\"#9c179e\"],[0.4444444444444444,\"#bd3786\"],[0.5555555555555556,\"#d8576b\"],[0.6666666666666666,\"#ed7953\"],[0.7777777777777778,\"#fb9f3a\"],[0.8888888888888888,\"#fdca26\"],[1.0,\"#f0f921\"]]},\"colorway\":[\"#636efa\",\"#EF553B\",\"#00cc96\",\"#ab63fa\",\"#FFA15A\",\"#19d3f3\",\"#FF6692\",\"#B6E880\",\"#FF97FF\",\"#FECB52\"],\"font\":{\"color\":\"#2a3f5f\"},\"geo\":{\"bgcolor\":\"white\",\"lakecolor\":\"white\",\"landcolor\":\"#E5ECF6\",\"showlakes\":true,\"showland\":true,\"subunitcolor\":\"white\"},\"hoverlabel\":{\"align\":\"left\"},\"hovermode\":\"closest\",\"mapbox\":{\"style\":\"light\"},\"paper_bgcolor\":\"white\",\"plot_bgcolor\":\"#E5ECF6\",\"polar\":{\"angularaxis\":{\"gridcolor\":\"white\",\"linecolor\":\"white\",\"ticks\":\"\"},\"bgcolor\":\"#E5ECF6\",\"radialaxis\":{\"gridcolor\":\"white\",\"linecolor\":\"white\",\"ticks\":\"\"}},\"scene\":{\"xaxis\":{\"backgroundcolor\":\"#E5ECF6\",\"gridcolor\":\"white\",\"gridwidth\":2,\"linecolor\":\"white\",\"showbackground\":true,\"ticks\":\"\",\"zerolinecolor\":\"white\"},\"yaxis\":{\"backgroundcolor\":\"#E5ECF6\",\"gridcolor\":\"white\",\"gridwidth\":2,\"linecolor\":\"white\",\"showbackground\":true,\"ticks\":\"\",\"zerolinecolor\":\"white\"},\"zaxis\":{\"backgroundcolor\":\"#E5ECF6\",\"gridcolor\":\"white\",\"gridwidth\":2,\"linecolor\":\"white\",\"showbackground\":true,\"ticks\":\"\",\"zerolinecolor\":\"white\"}},\"shapedefaults\":{\"line\":{\"color\":\"#2a3f5f\"}},\"ternary\":{\"aaxis\":{\"gridcolor\":\"white\",\"linecolor\":\"white\",\"ticks\":\"\"},\"baxis\":{\"gridcolor\":\"white\",\"linecolor\":\"white\",\"ticks\":\"\"},\"bgcolor\":\"#E5ECF6\",\"caxis\":{\"gridcolor\":\"white\",\"linecolor\":\"white\",\"ticks\":\"\"}},\"title\":{\"x\":0.05},\"xaxis\":{\"automargin\":true,\"gridcolor\":\"white\",\"linecolor\":\"white\",\"ticks\":\"\",\"title\":{\"standoff\":15},\"zerolinecolor\":\"white\",\"zerolinewidth\":2},\"yaxis\":{\"automargin\":true,\"gridcolor\":\"white\",\"linecolor\":\"white\",\"ticks\":\"\",\"title\":{\"standoff\":15},\"zerolinecolor\":\"white\",\"zerolinewidth\":2}}},\"xaxis\":{\"anchor\":\"y\",\"domain\":[0.0,0.05078125],\"title\":{\"text\":\"alpha\"},\"type\":\"log\"},\"yaxis\":{\"anchor\":\"x\",\"domain\":[0.0,1.0],\"title\":{\"text\":\"Objective Value\"}},\"xaxis2\":{\"anchor\":\"y2\",\"domain\":[0.06328125,0.1140625],\"title\":{\"text\":\"booster\"}},\"yaxis2\":{\"anchor\":\"x2\",\"domain\":[0.0,1.0],\"matches\":\"y\",\"showticklabels\":false},\"xaxis3\":{\"anchor\":\"y3\",\"domain\":[0.1265625,0.17734375],\"title\":{\"text\":\"colsample_bytree\"}},\"yaxis3\":{\"anchor\":\"x3\",\"domain\":[0.0,1.0],\"matches\":\"y\",\"showticklabels\":false},\"xaxis4\":{\"anchor\":\"y4\",\"domain\":[0.18984375,0.240625],\"title\":{\"text\":\"eta\"}},\"yaxis4\":{\"anchor\":\"x4\",\"domain\":[0.0,1.0],\"matches\":\"y\",\"showticklabels\":false},\"xaxis5\":{\"anchor\":\"y5\",\"domain\":[0.253125,0.30390625],\"title\":{\"text\":\"gamma\"},\"type\":\"log\"},\"yaxis5\":{\"anchor\":\"x5\",\"domain\":[0.0,1.0],\"matches\":\"y\",\"showticklabels\":false},\"xaxis6\":{\"anchor\":\"y6\",\"domain\":[0.31640625,0.3671875],\"title\":{\"text\":\"grow_policy\"}},\"yaxis6\":{\"anchor\":\"x6\",\"domain\":[0.0,1.0],\"matches\":\"y\",\"showticklabels\":false},\"xaxis7\":{\"anchor\":\"y7\",\"domain\":[0.3796875,0.43046875],\"title\":{\"text\":\"lambda\"},\"type\":\"log\"},\"yaxis7\":{\"anchor\":\"x7\",\"domain\":[0.0,1.0],\"matches\":\"y\",\"showticklabels\":false},\"xaxis8\":{\"anchor\":\"y8\",\"domain\":[0.44296875,0.49375],\"title\":{\"text\":\"max_depth\"}},\"yaxis8\":{\"anchor\":\"x8\",\"domain\":[0.0,1.0],\"matches\":\"y\",\"showticklabels\":false},\"xaxis9\":{\"anchor\":\"y9\",\"domain\":[0.50625,0.55703125],\"title\":{\"text\":\"min_child_weight\"}},\"yaxis9\":{\"anchor\":\"x9\",\"domain\":[0.0,1.0],\"matches\":\"y\",\"showticklabels\":false},\"xaxis10\":{\"anchor\":\"y10\",\"domain\":[0.56953125,0.6203125],\"title\":{\"text\":\"n_estimators\"}},\"yaxis10\":{\"anchor\":\"x10\",\"domain\":[0.0,1.0],\"matches\":\"y\",\"showticklabels\":false},\"xaxis11\":{\"anchor\":\"y11\",\"domain\":[0.6328125,0.68359375],\"title\":{\"text\":\"normalize_type\"}},\"yaxis11\":{\"anchor\":\"x11\",\"domain\":[0.0,1.0],\"matches\":\"y\",\"showticklabels\":false},\"xaxis12\":{\"anchor\":\"y12\",\"domain\":[0.69609375,0.746875],\"title\":{\"text\":\"rate_drop\"},\"type\":\"log\"},\"yaxis12\":{\"anchor\":\"x12\",\"domain\":[0.0,1.0],\"matches\":\"y\",\"showticklabels\":false},\"xaxis13\":{\"anchor\":\"y13\",\"domain\":[0.759375,0.81015625],\"title\":{\"text\":\"sample_type\"}},\"yaxis13\":{\"anchor\":\"x13\",\"domain\":[0.0,1.0],\"matches\":\"y\",\"showticklabels\":false},\"xaxis14\":{\"anchor\":\"y14\",\"domain\":[0.82265625,0.8734375],\"title\":{\"text\":\"skip_drop\"},\"type\":\"log\"},\"yaxis14\":{\"anchor\":\"x14\",\"domain\":[0.0,1.0],\"matches\":\"y\",\"showticklabels\":false},\"xaxis15\":{\"anchor\":\"y15\",\"domain\":[0.8859375,0.93671875],\"title\":{\"text\":\"subsample\"}},\"yaxis15\":{\"anchor\":\"x15\",\"domain\":[0.0,1.0],\"matches\":\"y\",\"showticklabels\":false},\"xaxis16\":{\"anchor\":\"y16\",\"domain\":[0.94921875,1.0],\"title\":{\"text\":\"tree_method\"}},\"yaxis16\":{\"anchor\":\"x16\",\"domain\":[0.0,1.0],\"matches\":\"y\",\"showticklabels\":false},\"title\":{\"text\":\"Slice Plot\"},\"width\":4800},                        {\"responsive\": true}                    ).then(function(){\n",
              "                            \n",
              "var gd = document.getElementById('e906e566-8c9d-4720-8221-d40019caf4b0');\n",
              "var x = new MutationObserver(function (mutations, observer) {{\n",
              "        var display = window.getComputedStyle(gd).display;\n",
              "        if (!display || display === 'none') {{\n",
              "            console.log([gd, 'removed!']);\n",
              "            Plotly.purge(gd);\n",
              "            observer.disconnect();\n",
              "        }}\n",
              "}});\n",
              "\n",
              "// Listen for the removal of the full notebook cells\n",
              "var notebookContainer = gd.closest('#notebook-container');\n",
              "if (notebookContainer) {{\n",
              "    x.observe(notebookContainer, {childList: true});\n",
              "}}\n",
              "\n",
              "// Listen for the clearing of the current output cell\n",
              "var outputEl = gd.closest('.output');\n",
              "if (outputEl) {{\n",
              "    x.observe(outputEl, {childList: true});\n",
              "}}\n",
              "\n",
              "                        })                };                            </script>        </div>\n",
              "</body>\n",
              "</html>"
            ]
          },
          "metadata": {}
        }
      ]
    },
    {
      "cell_type": "markdown",
      "metadata": {
        "id": "fP2N_dmqUFaV"
      },
      "source": [
        "### Visualizing Parameter Importances"
      ]
    },
    {
      "cell_type": "code",
      "metadata": {
        "colab": {
          "base_uri": "https://localhost:8080/",
          "height": 542
        },
        "id": "d76M3DwZUKax",
        "outputId": "8adb0752-19e4-4dff-ec0f-d8ffac25ab76"
      },
      "source": [
        "optuna.visualization.plot_param_importances(study1)"
      ],
      "execution_count": 36,
      "outputs": [
        {
          "output_type": "display_data",
          "data": {
            "text/html": [
              "<html>\n",
              "<head><meta charset=\"utf-8\" /></head>\n",
              "<body>\n",
              "    <div>            <script src=\"https://cdnjs.cloudflare.com/ajax/libs/mathjax/2.7.5/MathJax.js?config=TeX-AMS-MML_SVG\"></script><script type=\"text/javascript\">if (window.MathJax) {MathJax.Hub.Config({SVG: {font: \"STIX-Web\"}});}</script>                <script type=\"text/javascript\">window.PlotlyConfig = {MathJaxConfig: 'local'};</script>\n",
              "        <script src=\"https://cdn.plot.ly/plotly-2.8.3.min.js\"></script>                <div id=\"b13ea2f8-3768-435a-917f-e74be6953b10\" class=\"plotly-graph-div\" style=\"height:525px; width:100%;\"></div>            <script type=\"text/javascript\">                                    window.PLOTLYENV=window.PLOTLYENV || {};                                    if (document.getElementById(\"b13ea2f8-3768-435a-917f-e74be6953b10\")) {                    Plotly.newPlot(                        \"b13ea2f8-3768-435a-917f-e74be6953b10\",                        [{\"cliponaxis\":false,\"hovertemplate\":[\"booster (CategoricalDistribution): 0.0<extra></extra>\",\"gamma (LogUniformDistribution): 0.0009475533761337222<extra></extra>\",\"alpha (LogUniformDistribution): 0.002016876600765559<extra></extra>\",\"max_depth (IntUniformDistribution): 0.017488386566737176<extra></extra>\",\"lambda (LogUniformDistribution): 0.02594435526092975<extra></extra>\",\"n_estimators (CategoricalDistribution): 0.028148155038675994<extra></extra>\",\"grow_policy (CategoricalDistribution): 0.03734800812411927<extra></extra>\",\"colsample_bytree (UniformDistribution): 0.06486169389554539<extra></extra>\",\"min_child_weight (IntUniformDistribution): 0.07541924986765974<extra></extra>\",\"eta (UniformDistribution): 0.09393373836955449<extra></extra>\",\"tree_method (CategoricalDistribution): 0.10274786966986843<extra></extra>\",\"subsample (UniformDistribution): 0.5511441132300106<extra></extra>\"],\"marker\":{\"color\":\"rgb(66,146,198)\"},\"orientation\":\"h\",\"text\":[\"0.0\",\"0.0009475533761337222\",\"0.002016876600765559\",\"0.017488386566737176\",\"0.02594435526092975\",\"0.028148155038675994\",\"0.03734800812411927\",\"0.06486169389554539\",\"0.07541924986765974\",\"0.09393373836955449\",\"0.10274786966986843\",\"0.5511441132300106\"],\"textposition\":\"outside\",\"texttemplate\":\"%{text:.2f}\",\"x\":[0.0,0.0009475533761337222,0.002016876600765559,0.017488386566737176,0.02594435526092975,0.028148155038675994,0.03734800812411927,0.06486169389554539,0.07541924986765974,0.09393373836955449,0.10274786966986843,0.5511441132300106],\"y\":[\"booster\",\"gamma\",\"alpha\",\"max_depth\",\"lambda\",\"n_estimators\",\"grow_policy\",\"colsample_bytree\",\"min_child_weight\",\"eta\",\"tree_method\",\"subsample\"],\"type\":\"bar\"}],                        {\"showlegend\":false,\"title\":{\"text\":\"Hyperparameter Importances\"},\"xaxis\":{\"title\":{\"text\":\"Importance for Objective Value\"}},\"yaxis\":{\"title\":{\"text\":\"Hyperparameter\"}},\"template\":{\"data\":{\"bar\":[{\"error_x\":{\"color\":\"#2a3f5f\"},\"error_y\":{\"color\":\"#2a3f5f\"},\"marker\":{\"line\":{\"color\":\"#E5ECF6\",\"width\":0.5},\"pattern\":{\"fillmode\":\"overlay\",\"size\":10,\"solidity\":0.2}},\"type\":\"bar\"}],\"barpolar\":[{\"marker\":{\"line\":{\"color\":\"#E5ECF6\",\"width\":0.5},\"pattern\":{\"fillmode\":\"overlay\",\"size\":10,\"solidity\":0.2}},\"type\":\"barpolar\"}],\"carpet\":[{\"aaxis\":{\"endlinecolor\":\"#2a3f5f\",\"gridcolor\":\"white\",\"linecolor\":\"white\",\"minorgridcolor\":\"white\",\"startlinecolor\":\"#2a3f5f\"},\"baxis\":{\"endlinecolor\":\"#2a3f5f\",\"gridcolor\":\"white\",\"linecolor\":\"white\",\"minorgridcolor\":\"white\",\"startlinecolor\":\"#2a3f5f\"},\"type\":\"carpet\"}],\"choropleth\":[{\"colorbar\":{\"outlinewidth\":0,\"ticks\":\"\"},\"type\":\"choropleth\"}],\"contour\":[{\"colorbar\":{\"outlinewidth\":0,\"ticks\":\"\"},\"colorscale\":[[0.0,\"#0d0887\"],[0.1111111111111111,\"#46039f\"],[0.2222222222222222,\"#7201a8\"],[0.3333333333333333,\"#9c179e\"],[0.4444444444444444,\"#bd3786\"],[0.5555555555555556,\"#d8576b\"],[0.6666666666666666,\"#ed7953\"],[0.7777777777777778,\"#fb9f3a\"],[0.8888888888888888,\"#fdca26\"],[1.0,\"#f0f921\"]],\"type\":\"contour\"}],\"contourcarpet\":[{\"colorbar\":{\"outlinewidth\":0,\"ticks\":\"\"},\"type\":\"contourcarpet\"}],\"heatmap\":[{\"colorbar\":{\"outlinewidth\":0,\"ticks\":\"\"},\"colorscale\":[[0.0,\"#0d0887\"],[0.1111111111111111,\"#46039f\"],[0.2222222222222222,\"#7201a8\"],[0.3333333333333333,\"#9c179e\"],[0.4444444444444444,\"#bd3786\"],[0.5555555555555556,\"#d8576b\"],[0.6666666666666666,\"#ed7953\"],[0.7777777777777778,\"#fb9f3a\"],[0.8888888888888888,\"#fdca26\"],[1.0,\"#f0f921\"]],\"type\":\"heatmap\"}],\"heatmapgl\":[{\"colorbar\":{\"outlinewidth\":0,\"ticks\":\"\"},\"colorscale\":[[0.0,\"#0d0887\"],[0.1111111111111111,\"#46039f\"],[0.2222222222222222,\"#7201a8\"],[0.3333333333333333,\"#9c179e\"],[0.4444444444444444,\"#bd3786\"],[0.5555555555555556,\"#d8576b\"],[0.6666666666666666,\"#ed7953\"],[0.7777777777777778,\"#fb9f3a\"],[0.8888888888888888,\"#fdca26\"],[1.0,\"#f0f921\"]],\"type\":\"heatmapgl\"}],\"histogram\":[{\"marker\":{\"pattern\":{\"fillmode\":\"overlay\",\"size\":10,\"solidity\":0.2}},\"type\":\"histogram\"}],\"histogram2d\":[{\"colorbar\":{\"outlinewidth\":0,\"ticks\":\"\"},\"colorscale\":[[0.0,\"#0d0887\"],[0.1111111111111111,\"#46039f\"],[0.2222222222222222,\"#7201a8\"],[0.3333333333333333,\"#9c179e\"],[0.4444444444444444,\"#bd3786\"],[0.5555555555555556,\"#d8576b\"],[0.6666666666666666,\"#ed7953\"],[0.7777777777777778,\"#fb9f3a\"],[0.8888888888888888,\"#fdca26\"],[1.0,\"#f0f921\"]],\"type\":\"histogram2d\"}],\"histogram2dcontour\":[{\"colorbar\":{\"outlinewidth\":0,\"ticks\":\"\"},\"colorscale\":[[0.0,\"#0d0887\"],[0.1111111111111111,\"#46039f\"],[0.2222222222222222,\"#7201a8\"],[0.3333333333333333,\"#9c179e\"],[0.4444444444444444,\"#bd3786\"],[0.5555555555555556,\"#d8576b\"],[0.6666666666666666,\"#ed7953\"],[0.7777777777777778,\"#fb9f3a\"],[0.8888888888888888,\"#fdca26\"],[1.0,\"#f0f921\"]],\"type\":\"histogram2dcontour\"}],\"mesh3d\":[{\"colorbar\":{\"outlinewidth\":0,\"ticks\":\"\"},\"type\":\"mesh3d\"}],\"parcoords\":[{\"line\":{\"colorbar\":{\"outlinewidth\":0,\"ticks\":\"\"}},\"type\":\"parcoords\"}],\"pie\":[{\"automargin\":true,\"type\":\"pie\"}],\"scatter\":[{\"marker\":{\"colorbar\":{\"outlinewidth\":0,\"ticks\":\"\"}},\"type\":\"scatter\"}],\"scatter3d\":[{\"line\":{\"colorbar\":{\"outlinewidth\":0,\"ticks\":\"\"}},\"marker\":{\"colorbar\":{\"outlinewidth\":0,\"ticks\":\"\"}},\"type\":\"scatter3d\"}],\"scattercarpet\":[{\"marker\":{\"colorbar\":{\"outlinewidth\":0,\"ticks\":\"\"}},\"type\":\"scattercarpet\"}],\"scattergeo\":[{\"marker\":{\"colorbar\":{\"outlinewidth\":0,\"ticks\":\"\"}},\"type\":\"scattergeo\"}],\"scattergl\":[{\"marker\":{\"colorbar\":{\"outlinewidth\":0,\"ticks\":\"\"}},\"type\":\"scattergl\"}],\"scattermapbox\":[{\"marker\":{\"colorbar\":{\"outlinewidth\":0,\"ticks\":\"\"}},\"type\":\"scattermapbox\"}],\"scatterpolar\":[{\"marker\":{\"colorbar\":{\"outlinewidth\":0,\"ticks\":\"\"}},\"type\":\"scatterpolar\"}],\"scatterpolargl\":[{\"marker\":{\"colorbar\":{\"outlinewidth\":0,\"ticks\":\"\"}},\"type\":\"scatterpolargl\"}],\"scatterternary\":[{\"marker\":{\"colorbar\":{\"outlinewidth\":0,\"ticks\":\"\"}},\"type\":\"scatterternary\"}],\"surface\":[{\"colorbar\":{\"outlinewidth\":0,\"ticks\":\"\"},\"colorscale\":[[0.0,\"#0d0887\"],[0.1111111111111111,\"#46039f\"],[0.2222222222222222,\"#7201a8\"],[0.3333333333333333,\"#9c179e\"],[0.4444444444444444,\"#bd3786\"],[0.5555555555555556,\"#d8576b\"],[0.6666666666666666,\"#ed7953\"],[0.7777777777777778,\"#fb9f3a\"],[0.8888888888888888,\"#fdca26\"],[1.0,\"#f0f921\"]],\"type\":\"surface\"}],\"table\":[{\"cells\":{\"fill\":{\"color\":\"#EBF0F8\"},\"line\":{\"color\":\"white\"}},\"header\":{\"fill\":{\"color\":\"#C8D4E3\"},\"line\":{\"color\":\"white\"}},\"type\":\"table\"}]},\"layout\":{\"annotationdefaults\":{\"arrowcolor\":\"#2a3f5f\",\"arrowhead\":0,\"arrowwidth\":1},\"autotypenumbers\":\"strict\",\"coloraxis\":{\"colorbar\":{\"outlinewidth\":0,\"ticks\":\"\"}},\"colorscale\":{\"diverging\":[[0,\"#8e0152\"],[0.1,\"#c51b7d\"],[0.2,\"#de77ae\"],[0.3,\"#f1b6da\"],[0.4,\"#fde0ef\"],[0.5,\"#f7f7f7\"],[0.6,\"#e6f5d0\"],[0.7,\"#b8e186\"],[0.8,\"#7fbc41\"],[0.9,\"#4d9221\"],[1,\"#276419\"]],\"sequential\":[[0.0,\"#0d0887\"],[0.1111111111111111,\"#46039f\"],[0.2222222222222222,\"#7201a8\"],[0.3333333333333333,\"#9c179e\"],[0.4444444444444444,\"#bd3786\"],[0.5555555555555556,\"#d8576b\"],[0.6666666666666666,\"#ed7953\"],[0.7777777777777778,\"#fb9f3a\"],[0.8888888888888888,\"#fdca26\"],[1.0,\"#f0f921\"]],\"sequentialminus\":[[0.0,\"#0d0887\"],[0.1111111111111111,\"#46039f\"],[0.2222222222222222,\"#7201a8\"],[0.3333333333333333,\"#9c179e\"],[0.4444444444444444,\"#bd3786\"],[0.5555555555555556,\"#d8576b\"],[0.6666666666666666,\"#ed7953\"],[0.7777777777777778,\"#fb9f3a\"],[0.8888888888888888,\"#fdca26\"],[1.0,\"#f0f921\"]]},\"colorway\":[\"#636efa\",\"#EF553B\",\"#00cc96\",\"#ab63fa\",\"#FFA15A\",\"#19d3f3\",\"#FF6692\",\"#B6E880\",\"#FF97FF\",\"#FECB52\"],\"font\":{\"color\":\"#2a3f5f\"},\"geo\":{\"bgcolor\":\"white\",\"lakecolor\":\"white\",\"landcolor\":\"#E5ECF6\",\"showlakes\":true,\"showland\":true,\"subunitcolor\":\"white\"},\"hoverlabel\":{\"align\":\"left\"},\"hovermode\":\"closest\",\"mapbox\":{\"style\":\"light\"},\"paper_bgcolor\":\"white\",\"plot_bgcolor\":\"#E5ECF6\",\"polar\":{\"angularaxis\":{\"gridcolor\":\"white\",\"linecolor\":\"white\",\"ticks\":\"\"},\"bgcolor\":\"#E5ECF6\",\"radialaxis\":{\"gridcolor\":\"white\",\"linecolor\":\"white\",\"ticks\":\"\"}},\"scene\":{\"xaxis\":{\"backgroundcolor\":\"#E5ECF6\",\"gridcolor\":\"white\",\"gridwidth\":2,\"linecolor\":\"white\",\"showbackground\":true,\"ticks\":\"\",\"zerolinecolor\":\"white\"},\"yaxis\":{\"backgroundcolor\":\"#E5ECF6\",\"gridcolor\":\"white\",\"gridwidth\":2,\"linecolor\":\"white\",\"showbackground\":true,\"ticks\":\"\",\"zerolinecolor\":\"white\"},\"zaxis\":{\"backgroundcolor\":\"#E5ECF6\",\"gridcolor\":\"white\",\"gridwidth\":2,\"linecolor\":\"white\",\"showbackground\":true,\"ticks\":\"\",\"zerolinecolor\":\"white\"}},\"shapedefaults\":{\"line\":{\"color\":\"#2a3f5f\"}},\"ternary\":{\"aaxis\":{\"gridcolor\":\"white\",\"linecolor\":\"white\",\"ticks\":\"\"},\"baxis\":{\"gridcolor\":\"white\",\"linecolor\":\"white\",\"ticks\":\"\"},\"bgcolor\":\"#E5ECF6\",\"caxis\":{\"gridcolor\":\"white\",\"linecolor\":\"white\",\"ticks\":\"\"}},\"title\":{\"x\":0.05},\"xaxis\":{\"automargin\":true,\"gridcolor\":\"white\",\"linecolor\":\"white\",\"ticks\":\"\",\"title\":{\"standoff\":15},\"zerolinecolor\":\"white\",\"zerolinewidth\":2},\"yaxis\":{\"automargin\":true,\"gridcolor\":\"white\",\"linecolor\":\"white\",\"ticks\":\"\",\"title\":{\"standoff\":15},\"zerolinecolor\":\"white\",\"zerolinewidth\":2}}}},                        {\"responsive\": true}                    ).then(function(){\n",
              "                            \n",
              "var gd = document.getElementById('b13ea2f8-3768-435a-917f-e74be6953b10');\n",
              "var x = new MutationObserver(function (mutations, observer) {{\n",
              "        var display = window.getComputedStyle(gd).display;\n",
              "        if (!display || display === 'none') {{\n",
              "            console.log([gd, 'removed!']);\n",
              "            Plotly.purge(gd);\n",
              "            observer.disconnect();\n",
              "        }}\n",
              "}});\n",
              "\n",
              "// Listen for the removal of the full notebook cells\n",
              "var notebookContainer = gd.closest('#notebook-container');\n",
              "if (notebookContainer) {{\n",
              "    x.observe(notebookContainer, {childList: true});\n",
              "}}\n",
              "\n",
              "// Listen for the clearing of the current output cell\n",
              "var outputEl = gd.closest('.output');\n",
              "if (outputEl) {{\n",
              "    x.observe(outputEl, {childList: true});\n",
              "}}\n",
              "\n",
              "                        })                };                            </script>        </div>\n",
              "</body>\n",
              "</html>"
            ]
          },
          "metadata": {}
        }
      ]
    },
    {
      "cell_type": "markdown",
      "source": [
        "### Creat model with tuned parameters"
      ],
      "metadata": {
        "id": "C3J3Yi195C1i"
      }
    },
    {
      "cell_type": "code",
      "source": [
        "xgb_clf = XGBClassifier(early_stopping_rounds=200,**study1.best_params,verbose=1)"
      ],
      "metadata": {
        "id": "PMTuEeqc5fcv"
      },
      "execution_count": 57,
      "outputs": []
    },
    {
      "cell_type": "markdown",
      "source": [
        "### Fit the model"
      ],
      "metadata": {
        "id": "97CL0a7I5xuP"
      }
    },
    {
      "cell_type": "code",
      "source": [
        "xgb_clf.fit(X,y,eval_metric='error')"
      ],
      "metadata": {
        "id": "-i8kWF9F52WO",
        "colab": {
          "base_uri": "https://localhost:8080/"
        },
        "outputId": "0aff0228-8f34-4538-89c3-57b84850600d"
      },
      "execution_count": 58,
      "outputs": [
        {
          "output_type": "execute_result",
          "data": {
            "text/plain": [
              "XGBClassifier(alpha=0.0036922728497754864, booster='dart',\n",
              "              colsample_bytree=0.95814251163105, early_stopping_rounds=200,\n",
              "              eta=0.5667229755182016, gamma=3.221822994545585e-07,\n",
              "              grow_policy='lossguide', lambda=0.004851735453398697,\n",
              "              max_depth=23, min_child_weight=41, n_estimators=800,\n",
              "              normalize_type='tree', rate_drop=5.244593080019435e-06,\n",
              "              sample_type='weighted', skip_drop=1.9311103756601274e-07,\n",
              "              subsample=0.19771558989788213, tree_method='exact', verbose=1)"
            ]
          },
          "metadata": {},
          "execution_count": 58
        }
      ]
    },
    {
      "cell_type": "markdown",
      "source": [
        "### Shap explainer not supporting dart tree so lets use gbtree instead."
      ],
      "metadata": {
        "id": "wqLZbBKlWqEA"
      }
    },
    {
      "cell_type": "code",
      "source": [
        "param={'alpha': 0.0036922728497754864,\n",
        " 'booster': 'gbtree',\n",
        " 'colsample_bytree': 0.95814251163105,\n",
        " 'eta': 0.5667229755182016,\n",
        " 'gamma': 3.221822994545585e-07,\n",
        " 'grow_policy': 'lossguide',\n",
        " 'lambda': 0.004851735453398697,\n",
        " 'max_depth': 23,\n",
        " 'min_child_weight': 41,\n",
        " 'n_estimators': 800,\n",
        " 'normalize_type': 'tree',\n",
        " 'rate_drop': 5.244593080019435e-06,\n",
        " 'sample_type': 'weighted',\n",
        " 'skip_drop': 1.9311103756601274e-07,\n",
        " 'subsample': 0.19771558989788213,\n",
        " 'tree_method': 'exact'}"
      ],
      "metadata": {
        "id": "mq6na68iW1hg"
      },
      "execution_count": 59,
      "outputs": []
    },
    {
      "cell_type": "code",
      "source": [
        "xgb_clf1 = XGBClassifier(early_stopping_rounds=200,**param,verbose=2,)\n",
        "xgb_clf1.fit(X,y,eval_metric='error')"
      ],
      "metadata": {
        "colab": {
          "base_uri": "https://localhost:8080/"
        },
        "id": "LgHU9oWuW-H3",
        "outputId": "a40b6522-1891-4d38-aad7-7a00efd4e47f"
      },
      "execution_count": 60,
      "outputs": [
        {
          "output_type": "execute_result",
          "data": {
            "text/plain": [
              "XGBClassifier(alpha=0.0036922728497754864, colsample_bytree=0.95814251163105,\n",
              "              early_stopping_rounds=200, eta=0.5667229755182016,\n",
              "              gamma=3.221822994545585e-07, grow_policy='lossguide',\n",
              "              lambda=0.004851735453398697, max_depth=23, min_child_weight=41,\n",
              "              n_estimators=800, normalize_type='tree',\n",
              "              rate_drop=5.244593080019435e-06, sample_type='weighted',\n",
              "              skip_drop=1.9311103756601274e-07, subsample=0.19771558989788213,\n",
              "              tree_method='exact', verbose=2)"
            ]
          },
          "metadata": {},
          "execution_count": 60
        }
      ]
    },
    {
      "cell_type": "markdown",
      "metadata": {
        "id": "a1uc06R7Vixg"
      },
      "source": [
        "### Import shap for model explaination"
      ]
    },
    {
      "cell_type": "code",
      "metadata": {
        "id": "2y03ptImVmpx"
      },
      "source": [
        "!pip install -q shap"
      ],
      "execution_count": null,
      "outputs": []
    },
    {
      "cell_type": "code",
      "metadata": {
        "id": "6ESQo0JNVpAf"
      },
      "source": [
        "import shap"
      ],
      "execution_count": 45,
      "outputs": []
    },
    {
      "cell_type": "code",
      "source": [
        "explainer = shap.TreeExplainer(xgb_clf1)\n",
        "shap_values = explainer.shap_values(X, y)"
      ],
      "metadata": {
        "id": "AM_y2ZLb8Xw0"
      },
      "execution_count": 61,
      "outputs": []
    },
    {
      "cell_type": "markdown",
      "metadata": {
        "id": "wF4QUQpzWECJ"
      },
      "source": [
        "### Feature importance plot."
      ]
    },
    {
      "cell_type": "code",
      "metadata": {
        "colab": {
          "base_uri": "https://localhost:8080/",
          "height": 364
        },
        "id": "DB_G6Ib9WGCz",
        "outputId": "1849a5cf-53a2-4cee-e1ba-4bc2f49478ec"
      },
      "source": [
        "shap.summary_plot(shap_values, X, plot_type=\"bar\",\n",
        "                  max_display=10)"
      ],
      "execution_count": 70,
      "outputs": [
        {
          "output_type": "display_data",
          "data": {
            "image/png": "[encoded data removed]",
            "text/plain": [
              "<Figure size 576x396 with 1 Axes>"
            ]
          },
          "metadata": {
            "needs_background": "light"
          }
        }
      ]
    },
    {
      "cell_type": "markdown",
      "metadata": {
        "id": "OtYVvW3SWH4Z"
      },
      "source": [
        "### Top features impact the model"
      ]
    },
    {
      "cell_type": "code",
      "source": [
        "for name in X_train.columns:\n",
        "    shap.dependence_plot(name, shap_values, X, display_features=X_display)"
      ],
      "metadata": {
        "id": "rf6KAYlvYdT6"
      },
      "execution_count": null,
      "outputs": []
    },
    {
      "cell_type": "code",
      "metadata": {
        "colab": {
          "base_uri": "https://localhost:8080/",
          "height": 585
        },
        "id": "QTfvdg_RWLeU",
        "outputId": "32ca4ef3-2e69-46c1-d260-48f4ca60eba2"
      },
      "source": [
        "shap.summary_plot(shap_values, X)"
      ],
      "execution_count": 72,
      "outputs": [
        {
          "output_type": "display_data",
          "data": {
            "image/png": "[encoded data removed]",
            "text/plain": [
              "<Figure size 576x684 with 2 Axes>"
            ]
          },
          "metadata": {
            "needs_background": "light"
          }
        }
      ]
    },
    {
      "cell_type": "markdown",
      "metadata": {
        "id": "jWCKzWNkg1Mv"
      },
      "source": [
        "### Let's see which feature influences the model prediction for a single observation in each class. "
      ]
    },
    {
      "cell_type": "code",
      "source": [
        "shap.initjs()"
      ],
      "metadata": {
        "id": "_8BdMU7AZQD4"
      },
      "execution_count": null,
      "outputs": []
    },
    {
      "cell_type": "code",
      "metadata": {
        "colab": {
          "base_uri": "https://localhost:8080/",
          "height": 222
        },
        "id": "1MO2ZfyJcYUp",
        "outputId": "e3d97d28-f124-4976-f956-737281fed586"
      },
      "source": [
        "shap.force_plot(explainer.expected_value, shap_values[0,:], X.iloc[0,:],matplotlib=True)"
      ],
      "execution_count": 78,
      "outputs": [
        {
          "output_type": "display_data",
          "data": {
            "image/png": "[encoded data removed]",
            "text/plain": [
              "<Figure size 1440x216 with 1 Axes>"
            ]
          },
          "metadata": {
            "needs_background": "light"
          }
        }
      ]
    },
    {
      "cell_type": "code",
      "source": [
        "pred=xgb_clf1.predict_proba(test.loc[:,X.columns])[:,1]"
      ],
      "metadata": {
        "id": "pCLZo-mVwZvr"
      },
      "execution_count": 82,
      "outputs": []
    },
    {
      "cell_type": "code",
      "source": [
        "res=pd.DataFrame({'Hazardous':pred})"
      ],
      "metadata": {
        "id": "KPefDzpCq2Kb"
      },
      "execution_count": null,
      "outputs": []
    },
    {
      "cell_type": "code",
      "source": [
        "res.to_csv(\"XGboost_Classifier_with_optuna_tuning.csv\",index=False)"
      ],
      "metadata": {
        "id": "eAhEHwMeq8lD"
      },
      "execution_count": null,
      "outputs": []
    }
  ]
}